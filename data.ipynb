{
 "cells": [
  {
   "cell_type": "code",
   "execution_count": 1,
   "metadata": {},
   "outputs": [],
   "source": [
    "import pandas as pd\n",
    "import re\n",
    "import datetime"
   ]
  },
  {
   "cell_type": "markdown",
   "metadata": {},
   "source": [
    "## Loading and Displaying initial data"
   ]
  },
  {
   "cell_type": "code",
   "execution_count": 2,
   "metadata": {},
   "outputs": [
    {
     "output_type": "execute_result",
     "data": {
      "text/plain": "                                                name price_current  \\\n0  \\n                \\n                    \\n    ...    $14,999.00   \n1  \\n                \\n                    \\n    ...    $20,999.00   \n\n  price_original      reviews_number  seller               score   Marca  \\\n0            NaN  139 calificaciones  Huawei  4.7 de 5 estrellas  Huawei   \n1            NaN   55 calificaciones  Huawei  4.3 de 5 estrellas  HUAWEI   \n\n          Series Color Alto del producto  ... Número de puertos USB 2.0  \\\n0  Matebook D 15  Gris    17 millimeters  ...                       2.0   \n1    Matebook 13   NaN    15 millimeters  ...                       NaN   \n\n  Número de puertos USB 3.0 Tipo de unidad óptica Sistema operativo  \\\n0                       1.0                  None   Windows 10 Home   \n1                       2.0               Ninguno        Windows 10   \n\n  Lithium Battery Energy Content Number of Lithium Ion Cells     \\\n0                  42 watt_hours                         2.0      \n1               41.80 watt_hours                         1.0      \n\n  Peso del envío Número de modelo del producto Producto en Amazon.com.mx desde  \n0         2.3 Kg                 6901443370764           20 de febrero de 2020  \n1         2.2 Kg                  Wright W19GL             14 de enero de 2020  \n\n[2 rows x 39 columns]",
      "text/html": "<div>\n<style scoped>\n    .dataframe tbody tr th:only-of-type {\n        vertical-align: middle;\n    }\n\n    .dataframe tbody tr th {\n        vertical-align: top;\n    }\n\n    .dataframe thead th {\n        text-align: right;\n    }\n</style>\n<table border=\"1\" class=\"dataframe\">\n  <thead>\n    <tr style=\"text-align: right;\">\n      <th></th>\n      <th>name</th>\n      <th>price_current</th>\n      <th>price_original</th>\n      <th>reviews_number</th>\n      <th>seller</th>\n      <th>score</th>\n      <th>Marca</th>\n      <th>Series</th>\n      <th>Color</th>\n      <th>Alto del producto</th>\n      <th>...</th>\n      <th>Número de puertos USB 2.0</th>\n      <th>Número de puertos USB 3.0</th>\n      <th>Tipo de unidad óptica</th>\n      <th>Sistema operativo</th>\n      <th>Lithium Battery Energy Content</th>\n      <th>Number of Lithium Ion Cells</th>\n      <th></th>\n      <th>Peso del envío</th>\n      <th>Número de modelo del producto</th>\n      <th>Producto en Amazon.com.mx desde</th>\n    </tr>\n  </thead>\n  <tbody>\n    <tr>\n      <th>0</th>\n      <td>\\n                \\n                    \\n    ...</td>\n      <td>$14,999.00</td>\n      <td>NaN</td>\n      <td>139 calificaciones</td>\n      <td>Huawei</td>\n      <td>4.7 de 5 estrellas</td>\n      <td>Huawei</td>\n      <td>Matebook D 15</td>\n      <td>Gris</td>\n      <td>17 millimeters</td>\n      <td>...</td>\n      <td>2.0</td>\n      <td>1.0</td>\n      <td>None</td>\n      <td>Windows 10 Home</td>\n      <td>42 watt_hours</td>\n      <td>2.0</td>\n      <td></td>\n      <td>2.3 Kg</td>\n      <td>6901443370764</td>\n      <td>20 de febrero de 2020</td>\n    </tr>\n    <tr>\n      <th>1</th>\n      <td>\\n                \\n                    \\n    ...</td>\n      <td>$20,999.00</td>\n      <td>NaN</td>\n      <td>55 calificaciones</td>\n      <td>Huawei</td>\n      <td>4.3 de 5 estrellas</td>\n      <td>HUAWEI</td>\n      <td>Matebook 13</td>\n      <td>NaN</td>\n      <td>15 millimeters</td>\n      <td>...</td>\n      <td>NaN</td>\n      <td>2.0</td>\n      <td>Ninguno</td>\n      <td>Windows 10</td>\n      <td>41.80 watt_hours</td>\n      <td>1.0</td>\n      <td></td>\n      <td>2.2 Kg</td>\n      <td>Wright W19GL</td>\n      <td>14 de enero de 2020</td>\n    </tr>\n  </tbody>\n</table>\n<p>2 rows × 39 columns</p>\n</div>"
     },
     "metadata": {},
     "execution_count": 2
    }
   ],
   "source": [
    "df = pd.read_csv('AmazonScraper/amazon_0507.csv')\n",
    "df.head(2)"
   ]
  },
  {
   "cell_type": "code",
   "execution_count": 3,
   "metadata": {},
   "outputs": [
    {
     "output_type": "stream",
     "name": "stdout",
     "text": "<class 'pandas.core.frame.DataFrame'>\nRangeIndex: 151 entries, 0 to 150\nData columns (total 39 columns):\n #   Column                               Non-Null Count  Dtype  \n---  ------                               --------------  -----  \n 0   name                                 151 non-null    object \n 1   price_current                        107 non-null    object \n 2   price_original                       36 non-null     object \n 3   reviews_number                       132 non-null    object \n 4   seller                               151 non-null    object \n 5   score                                132 non-null    object \n 6   Marca                                151 non-null    object \n 7   Series                               142 non-null    object \n 8   Color                                89 non-null     object \n 9   Alto del producto                    134 non-null    object \n 10  Ancho del producto                   134 non-null    object \n 11  Tamaño de la pantalla                149 non-null    object \n 12  Resolución de la pantalla            38 non-null     object \n 13  Marca del procesador                 144 non-null    object \n 14  Tipo de procesador                   133 non-null    object \n 15  Velocidad del procesador             135 non-null    object \n 16  Tamaño de RAM                        149 non-null    object \n 17  Tecnología de la memoria             87 non-null     object \n 18  Tipo de memoria del equipo           88 non-null     object \n 19  Memoria máxima compatible            121 non-null    object \n 20  Tamaño de la unidad de disco duro    112 non-null    object \n 21  Descripción del disco duro           28 non-null     object \n 22  Interfaz de la unidad de disco duro  84 non-null     object \n 23  Coprocesador de gráficos             101 non-null    object \n 24  Descripción de la tarjeta gráfica    87 non-null     object \n 25  Tipo de RAM para gráficos            66 non-null     object \n 26  Tamaño de RAM de la tarjeta gráfica  16 non-null     object \n 27  Interfaz de la tarjeta gráfica       85 non-null     object \n 28  Tipo de conexión inalámbrica         129 non-null    object \n 29  Número de puertos USB 2.0            52 non-null     float64\n 30  Número de puertos USB 3.0            57 non-null     float64\n 31  Tipo de unidad óptica                84 non-null     object \n 32  Sistema operativo                    147 non-null    object \n 33  Lithium Battery Energy Content       146 non-null    object \n 34  Number of Lithium Ion Cells          142 non-null    float64\n 35                                       151 non-null    object \n 36  Peso del envío                       151 non-null    object \n 37  Número de modelo del producto        136 non-null    object \n 38  Producto en Amazon.com.mx desde      151 non-null    object \ndtypes: float64(3), object(36)\nmemory usage: 46.1+ KB\n"
    }
   ],
   "source": [
    "df.info()\n",
    "\n"
   ]
  },
  {
   "cell_type": "markdown",
   "metadata": {},
   "source": [
    "## Defining functions for transformation and cleaning"
   ]
  },
  {
   "cell_type": "code",
   "execution_count": 4,
   "metadata": {},
   "outputs": [],
   "source": [
    "def del_na(column):\n",
    "    return column[column.notna()]\n",
    "\n",
    "def only_first(cell, cast='int'):\n",
    "    if cast == 'int':\n",
    "        return int(cell.split()[0])\n",
    "    else:\n",
    "        return float(cell.split()[0])\n",
    "\n",
    "def to_watts(cell):\n",
    "    cell = cell.split(' ')\n",
    "    watts = float(cell[0])\n",
    "    if 'kilowatt' in cell[1]:\n",
    "        watts *=  1000\n",
    "    elif 'milliamp' in cell[1]:\n",
    "        volts = 12\n",
    "        watts = (watts*volts)/1000\n",
    "    \n",
    "    return int(watts)"
   ]
  },
  {
   "cell_type": "markdown",
   "metadata": {},
   "source": [
    "## Renaming columns to make transformation easier"
   ]
  },
  {
   "cell_type": "code",
   "execution_count": 5,
   "metadata": {},
   "outputs": [
    {
     "output_type": "stream",
     "name": "stdout",
     "text": "<class 'pandas.core.frame.DataFrame'>\nRangeIndex: 151 entries, 0 to 150\nData columns (total 38 columns):\n #   Column                               Non-Null Count  Dtype  \n---  ------                               --------------  -----  \n 0   name                                 151 non-null    object \n 1   price_current                        107 non-null    object \n 2   price_original                       36 non-null     object \n 3   reviews_number                       132 non-null    object \n 4   seller                               151 non-null    object \n 5   score                                132 non-null    object \n 6   Marca                                151 non-null    object \n 7   Series                               142 non-null    object \n 8   Color                                89 non-null     object \n 9   height_cm                            134 non-null    object \n 10  width_cm                             134 non-null    object \n 11  screen_size_in                       149 non-null    object \n 12  Resolución de la pantalla            38 non-null     object \n 13  Marca del procesador                 144 non-null    object \n 14  Tipo de procesador                   133 non-null    object \n 15  proc_speed_ghz                       135 non-null    object \n 16  ram                                  149 non-null    object \n 17  Tecnología de la memoria             87 non-null     object \n 18  Tipo de memoria del equipo           88 non-null     object \n 19  ram_max                              121 non-null    object \n 20  memory                               112 non-null    object \n 21  Descripción del disco duro           28 non-null     object \n 22  Interfaz de la unidad de disco duro  84 non-null     object \n 23  Coprocesador de gráficos             101 non-null    object \n 24  Descripción de la tarjeta gráfica    87 non-null     object \n 25  Tipo de RAM para gráficos            66 non-null     object \n 26  gpu_ram                              16 non-null     object \n 27  Interfaz de la tarjeta gráfica       85 non-null     object \n 28  Tipo de conexión inalámbrica         129 non-null    object \n 29  usb_2                                52 non-null     float64\n 30  usb_3                                57 non-null     float64\n 31  Tipo de unidad óptica                84 non-null     object \n 32  Sistema operativo                    147 non-null    object \n 33  battery_wh                           146 non-null    object \n 34  battery_cells                        142 non-null    float64\n 35  weight_kg                            151 non-null    object \n 36  Número de modelo del producto        136 non-null    object \n 37  Producto en Amazon.com.mx desde      151 non-null    object \ndtypes: float64(3), object(35)\nmemory usage: 45.0+ KB\n"
    }
   ],
   "source": [
    "# Deleted empty column\n",
    "df.drop(df.columns[35], axis='columns', inplace=True)\n",
    "\n",
    "# Rename some columns\n",
    "df.rename(columns = {\n",
    "    'Alto del producto' : 'height_cm',\n",
    "    'Ancho del producto' : 'width_cm',\n",
    "    'Tamaño de la pantalla' : 'screen_size_in',\n",
    "    'Velocidad del procesador' : 'proc_speed_ghz',\n",
    "    'Tamaño de RAM': 'ram',\n",
    "    'Memoria máxima compatible': 'ram_max',\n",
    "    'Tamaño de la unidad de disco duro' : 'memory',\n",
    "    'Tamaño de RAM de la tarjeta gráfica' : 'gpu_ram',\n",
    "    'Número de puertos USB 2.0': 'usb_2',\n",
    "    'Número de puertos USB 3.0': 'usb_3',\n",
    "    'Lithium Battery Energy Content' : 'battery_wh',\n",
    "    'Number of Lithium Ion Cells' : 'battery_cells',\n",
    "    'Peso del envío' : 'weight_kg',\n",
    "    }, inplace=True)\n",
    "\n",
    "df.info()"
   ]
  },
  {
   "cell_type": "markdown",
   "metadata": {},
   "source": [
    "## Transforming data"
   ]
  },
  {
   "cell_type": "code",
   "execution_count": 6,
   "metadata": {},
   "outputs": [],
   "source": [
    "# Delete '/n' of each name\n",
    "space = re.compile('^\\s+\\n*(.*?.)\\s+\\n\\s*')\n",
    "df.name = df.name.apply(lambda x: space.sub(r'\\1', x))\n",
    "\n",
    "# price_current\n",
    "df.price_current = del_na(df.price_current).apply(\n",
    "    lambda x: float( x.replace('$', '').replace(',', '')) )\n",
    "\n",
    "# price_original\n",
    "df.price_original = del_na(df.price_original).apply(\n",
    "    lambda x: float(x.replace('$', '').replace(',', '')) )\n",
    "\n",
    "# reviews_number\n",
    "df.reviews_number = del_na(df.reviews_number).apply(\n",
    "    lambda x: only_first(x.replace(',', ''), 'int') )\n",
    "\n",
    "# score\n",
    "df.score = del_na(df.score).apply(\n",
    "    only_first, args=('float',) )\n",
    "\n",
    "# alto\n",
    "df.height_cm = del_na(df.height_cm).apply( \n",
    "    lambda x:  only_first(x, 'float')   if 'cent' in x    else only_first(x) / 100 )\n",
    "\n",
    "# ancho\n",
    "df.width_cm = del_na(df.width_cm).apply( \n",
    "    lambda x: only_first(x, 'float')    if 'cent' in x    else only_first(x) / 100 )\n",
    "\n",
    "# screen_size_in\n",
    "df.screen_size_in = del_na(df.screen_size_in).apply(only_first, args=('float',) )\n",
    "\n",
    "# proc_speed_ghz\n",
    "df.proc_speed_ghz = del_na(df.proc_speed_ghz).apply(only_first, args = ('float',) )\n",
    "\n",
    "# ram\n",
    "df.ram = del_na(df.ram).apply(only_first)\n",
    "\n",
    "# ram_max\n",
    "df.ram_max = del_na(df.ram_max).apply(only_first, args=('float',) )\n",
    "\n",
    "# memory\n",
    "df.memory = del_na(df.memory).apply(only_first)\n",
    "\n",
    "# gpu_ram\n",
    "df.gpu_ram = del_na(df.gpu_ram).apply(only_first)\n",
    "\n",
    "# usb_2\n",
    "df.usb_2 = del_na(df.usb_2).apply(int)\n",
    "\n",
    "# usb_3\n",
    "df.usb_3 = del_na(df.usb_3).apply(int)\n",
    "\n",
    "# battey\n",
    "df.battery_wh = del_na(df.battery_wh).apply(to_watts)\n",
    "\n",
    "# battery_cells\n",
    "df.battery_cells = del_na(df.battery_cells).apply(int)\n",
    "\n",
    "# weight_kg\n",
    "df.weight_kg = del_na(df.weight_kg).apply(only_first, args=('float',) )"
   ]
  },
  {
   "cell_type": "markdown",
   "metadata": {},
   "source": [
    "## Showing clean data and exporting processed data"
   ]
  },
  {
   "cell_type": "code",
   "execution_count": 21,
   "metadata": {},
   "outputs": [
    {
     "output_type": "stream",
     "name": "stdout",
     "text": "<class 'pandas.core.frame.DataFrame'>\nRangeIndex: 151 entries, 0 to 150\nData columns (total 38 columns):\n #   Column                               Non-Null Count  Dtype  \n---  ------                               --------------  -----  \n 0   name                                 151 non-null    object \n 1   price_current                        107 non-null    float64\n 2   price_original                       36 non-null     float64\n 3   reviews_number                       132 non-null    float64\n 4   seller                               151 non-null    object \n 5   score                                132 non-null    float64\n 6   Marca                                151 non-null    object \n 7   Series                               142 non-null    object \n 8   Color                                89 non-null     object \n 9   height_cm                            134 non-null    float64\n 10  width_cm                             134 non-null    float64\n 11  screen_size_in                       149 non-null    float64\n 12  Resolución de la pantalla            38 non-null     object \n 13  Marca del procesador                 144 non-null    object \n 14  Tipo de procesador                   133 non-null    object \n 15  proc_speed_ghz                       135 non-null    float64\n 16  ram                                  149 non-null    float64\n 17  Tecnología de la memoria             87 non-null     object \n 18  Tipo de memoria del equipo           88 non-null     object \n 19  ram_max                              121 non-null    float64\n 20  memory                               112 non-null    float64\n 21  Descripción del disco duro           28 non-null     object \n 22  Interfaz de la unidad de disco duro  84 non-null     object \n 23  Coprocesador de gráficos             101 non-null    object \n 24  Descripción de la tarjeta gráfica    87 non-null     object \n 25  Tipo de RAM para gráficos            66 non-null     object \n 26  gpu_ram                              16 non-null     float64\n 27  Interfaz de la tarjeta gráfica       85 non-null     object \n 28  Tipo de conexión inalámbrica         129 non-null    object \n 29  usb_2                                52 non-null     float64\n 30  usb_3                                57 non-null     float64\n 31  Tipo de unidad óptica                84 non-null     object \n 32  Sistema operativo                    147 non-null    object \n 33  battery_wh                           146 non-null    float64\n 34  battery_cells                        142 non-null    float64\n 35  weight_kg                            151 non-null    float64\n 36  Número de modelo del producto        136 non-null    object \n 37  Producto en Amazon.com.mx desde      151 non-null    object \ndtypes: float64(17), object(21)\nmemory usage: 45.0+ KB\n"
    }
   ],
   "source": [
    "df.info()"
   ]
  },
  {
   "cell_type": "code",
   "execution_count": 22,
   "metadata": {},
   "outputs": [
    {
     "output_type": "execute_result",
     "data": {
      "text/plain": "                                                name  price_current  \\\n0  Huawei MateBook D 15\" - AMD Ryzen, Windows 10-...        14999.0   \n1  HUAWEI Matebook 13 New- Computadora portátil u...        20999.0   \n\n   price_original  reviews_number  seller  score   Marca         Series Color  \\\n0             NaN           139.0  Huawei    4.7  Huawei  Matebook D 15  Gris   \n1             NaN            55.0  Huawei    4.3  HUAWEI    Matebook 13   NaN   \n\n   height_cm  ...  Tipo de conexión inalámbrica  usb_2 usb_3  \\\n0       0.17  ...                     Bluetooth    2.0   1.0   \n1       0.15  ...                           NaN    NaN   2.0   \n\n  Tipo de unidad óptica Sistema operativo  battery_wh  battery_cells  \\\n0                  None   Windows 10 Home        42.0            2.0   \n1               Ninguno        Windows 10        41.0            1.0   \n\n  weight_kg Número de modelo del producto  Producto en Amazon.com.mx desde  \n0       2.3                 6901443370764            20 de febrero de 2020  \n1       2.2                  Wright W19GL              14 de enero de 2020  \n\n[2 rows x 38 columns]",
      "text/html": "<div>\n<style scoped>\n    .dataframe tbody tr th:only-of-type {\n        vertical-align: middle;\n    }\n\n    .dataframe tbody tr th {\n        vertical-align: top;\n    }\n\n    .dataframe thead th {\n        text-align: right;\n    }\n</style>\n<table border=\"1\" class=\"dataframe\">\n  <thead>\n    <tr style=\"text-align: right;\">\n      <th></th>\n      <th>name</th>\n      <th>price_current</th>\n      <th>price_original</th>\n      <th>reviews_number</th>\n      <th>seller</th>\n      <th>score</th>\n      <th>Marca</th>\n      <th>Series</th>\n      <th>Color</th>\n      <th>height_cm</th>\n      <th>...</th>\n      <th>Tipo de conexión inalámbrica</th>\n      <th>usb_2</th>\n      <th>usb_3</th>\n      <th>Tipo de unidad óptica</th>\n      <th>Sistema operativo</th>\n      <th>battery_wh</th>\n      <th>battery_cells</th>\n      <th>weight_kg</th>\n      <th>Número de modelo del producto</th>\n      <th>Producto en Amazon.com.mx desde</th>\n    </tr>\n  </thead>\n  <tbody>\n    <tr>\n      <th>0</th>\n      <td>Huawei MateBook D 15\" - AMD Ryzen, Windows 10-...</td>\n      <td>14999.0</td>\n      <td>NaN</td>\n      <td>139.0</td>\n      <td>Huawei</td>\n      <td>4.7</td>\n      <td>Huawei</td>\n      <td>Matebook D 15</td>\n      <td>Gris</td>\n      <td>0.17</td>\n      <td>...</td>\n      <td>Bluetooth</td>\n      <td>2.0</td>\n      <td>1.0</td>\n      <td>None</td>\n      <td>Windows 10 Home</td>\n      <td>42.0</td>\n      <td>2.0</td>\n      <td>2.3</td>\n      <td>6901443370764</td>\n      <td>20 de febrero de 2020</td>\n    </tr>\n    <tr>\n      <th>1</th>\n      <td>HUAWEI Matebook 13 New- Computadora portátil u...</td>\n      <td>20999.0</td>\n      <td>NaN</td>\n      <td>55.0</td>\n      <td>Huawei</td>\n      <td>4.3</td>\n      <td>HUAWEI</td>\n      <td>Matebook 13</td>\n      <td>NaN</td>\n      <td>0.15</td>\n      <td>...</td>\n      <td>NaN</td>\n      <td>NaN</td>\n      <td>2.0</td>\n      <td>Ninguno</td>\n      <td>Windows 10</td>\n      <td>41.0</td>\n      <td>1.0</td>\n      <td>2.2</td>\n      <td>Wright W19GL</td>\n      <td>14 de enero de 2020</td>\n    </tr>\n  </tbody>\n</table>\n<p>2 rows × 38 columns</p>\n</div>"
     },
     "metadata": {},
     "execution_count": 22
    }
   ],
   "source": [
    "df.head(2)"
   ]
  },
  {
   "cell_type": "code",
   "execution_count": 9,
   "metadata": {},
   "outputs": [],
   "source": [
    "df.to_csv('amazon_clean_' + datetime.datetime.today().strftime('%m%d') + '.csv')"
   ]
  },
  {
   "cell_type": "code",
   "execution_count": 20,
   "metadata": {},
   "outputs": [],
   "source": [
    "df.usb_2 = del_na(df.usb_2).astype(int)"
   ]
  }
 ],
 "metadata": {
  "language_info": {
   "codemirror_mode": {
    "name": "ipython",
    "version": 3
   },
   "file_extension": ".py",
   "mimetype": "text/x-python",
   "name": "python",
   "nbconvert_exporter": "python",
   "pygments_lexer": "ipython3",
   "version": "3.8.2-final"
  },
  "orig_nbformat": 2,
  "kernelspec": {
   "name": "python38264bitplatzidatacondaa1916bf86f0645438a1bcc3f200d90b5",
   "display_name": "Python 3.8.2 64-bit ('platzi_data': conda)"
  }
 },
 "nbformat": 4,
 "nbformat_minor": 2
}