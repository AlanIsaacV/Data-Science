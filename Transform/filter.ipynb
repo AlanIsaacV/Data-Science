{
 "cells": [
  {
   "cell_type": "code",
   "execution_count": 1,
   "metadata": {},
   "outputs": [],
   "source": [
    "import pandas as pd\n",
    "import numpy as np\n",
    "import matplotlib.pyplot as plt\n",
    "import matplotlib.colors\n",
    "import re\n",
    "import datetime\n",
    "\n",
    "%matplotlib inline\n"
   ]
  },
  {
   "cell_type": "code",
   "execution_count": 2,
   "metadata": {},
   "outputs": [
    {
     "output_type": "execute_result",
     "data": {
      "text/plain": "                                                name  price_current  \\\n0  Huawei MateBook D 15\" - AMD Ryzen, Windows 10-...        14999.0   \n1  Asus Laptop VivoBook 15.6\", Core i7,  8GB RAM,...        17999.0   \n\n   price_original  reviews_number  seller  score   brand          Series  \\\n0             NaN           156.0  Huawei    4.7  Huawei   Matebook D 15   \n1         19999.0             NaN    Asus    NaN    Asus  X512FA-BR1412T   \n\n  Color  height_cm  ...  Tipo de conexión inalámbrica  usb_2  usb_3  \\\n0  Gris       0.17  ...                     Bluetooth    2.0    1.0   \n1   NaN        NaN  ...                           NaN    2.0    2.0   \n\n   Tipo de unidad óptica               os battery_wh  battery_cells  \\\n0                   None  Windows 10 Home       42.0            2.0   \n1                Ninguno       Windows 10     1000.0            1.0   \n\n   weight_kg Número de modelo del producto       since  \n0        2.3                 6901443370764  2020-02-20  \n1        2.5                           NaN  2020-03-10  \n\n[2 rows x 39 columns]",
      "text/html": "<div>\n<style scoped>\n    .dataframe tbody tr th:only-of-type {\n        vertical-align: middle;\n    }\n\n    .dataframe tbody tr th {\n        vertical-align: top;\n    }\n\n    .dataframe thead th {\n        text-align: right;\n    }\n</style>\n<table border=\"1\" class=\"dataframe\">\n  <thead>\n    <tr style=\"text-align: right;\">\n      <th></th>\n      <th>name</th>\n      <th>price_current</th>\n      <th>price_original</th>\n      <th>reviews_number</th>\n      <th>seller</th>\n      <th>score</th>\n      <th>brand</th>\n      <th>Series</th>\n      <th>Color</th>\n      <th>height_cm</th>\n      <th>...</th>\n      <th>Tipo de conexión inalámbrica</th>\n      <th>usb_2</th>\n      <th>usb_3</th>\n      <th>Tipo de unidad óptica</th>\n      <th>os</th>\n      <th>battery_wh</th>\n      <th>battery_cells</th>\n      <th>weight_kg</th>\n      <th>Número de modelo del producto</th>\n      <th>since</th>\n    </tr>\n  </thead>\n  <tbody>\n    <tr>\n      <th>0</th>\n      <td>Huawei MateBook D 15\" - AMD Ryzen, Windows 10-...</td>\n      <td>14999.0</td>\n      <td>NaN</td>\n      <td>156.0</td>\n      <td>Huawei</td>\n      <td>4.7</td>\n      <td>Huawei</td>\n      <td>Matebook D 15</td>\n      <td>Gris</td>\n      <td>0.17</td>\n      <td>...</td>\n      <td>Bluetooth</td>\n      <td>2.0</td>\n      <td>1.0</td>\n      <td>None</td>\n      <td>Windows 10 Home</td>\n      <td>42.0</td>\n      <td>2.0</td>\n      <td>2.3</td>\n      <td>6901443370764</td>\n      <td>2020-02-20</td>\n    </tr>\n    <tr>\n      <th>1</th>\n      <td>Asus Laptop VivoBook 15.6\", Core i7,  8GB RAM,...</td>\n      <td>17999.0</td>\n      <td>19999.0</td>\n      <td>NaN</td>\n      <td>Asus</td>\n      <td>NaN</td>\n      <td>Asus</td>\n      <td>X512FA-BR1412T</td>\n      <td>NaN</td>\n      <td>NaN</td>\n      <td>...</td>\n      <td>NaN</td>\n      <td>2.0</td>\n      <td>2.0</td>\n      <td>Ninguno</td>\n      <td>Windows 10</td>\n      <td>1000.0</td>\n      <td>1.0</td>\n      <td>2.5</td>\n      <td>NaN</td>\n      <td>2020-03-10</td>\n    </tr>\n  </tbody>\n</table>\n<p>2 rows × 39 columns</p>\n</div>"
     },
     "metadata": {},
     "execution_count": 2
    }
   ],
   "source": [
    "df = pd.read_csv('../Data/amazon_clean_0512.csv', index_col=0)\n",
    "df.head(2)"
   ]
  },
  {
   "cell_type": "markdown",
   "metadata": {},
   "source": [
    "## Droping unuseful column to this case"
   ]
  },
  {
   "cell_type": "code",
   "execution_count": 3,
   "metadata": {},
   "outputs": [],
   "source": [
    "df = df.drop(columns=[\n",
    "    'Tecnología de la memoria', \n",
    "    'Tipo de unidad óptica', \n",
    "    'Tipo de conexión inalámbrica', \n",
    "    'Número de modelo del producto',\n",
    "    'usb_3',\n",
    "    'usb_2',\n",
    "    'Series',\n",
    "    'Color',\n",
    "    'Descripción del disco duro',\n",
    "    'Tipo de RAM para gráficos',\n",
    "    'memory_interface',\n",
    "    'gpu_interface',\n",
    "    'resolution_x',\n",
    "    'resolution_y',\n",
    "    'gpu_ram',\n",
    "    'Descripción de la tarjeta gráfica',\n",
    "    'Coprocesador de gráficos',\n",
    "    'Tipo de procesador'\n",
    "    ])"
   ]
  },
  {
   "cell_type": "code",
   "execution_count": 4,
   "metadata": {},
   "outputs": [
    {
     "output_type": "stream",
     "name": "stdout",
     "text": "<class 'pandas.core.frame.DataFrame'>\nInt64Index: 512 entries, 0 to 511\nData columns (total 21 columns):\n #   Column          Non-Null Count  Dtype  \n---  ------          --------------  -----  \n 0   name            512 non-null    object \n 1   price_current   220 non-null    float64\n 2   price_original  41 non-null     float64\n 3   reviews_number  469 non-null    float64\n 4   seller          512 non-null    object \n 5   score           469 non-null    float64\n 6   brand           512 non-null    object \n 7   height_cm       469 non-null    float64\n 8   width_cm        468 non-null    float64\n 9   screen_size_in  509 non-null    float64\n 10  proc_brand      488 non-null    object \n 11  proc_speed_ghz  448 non-null    float64\n 12  ram             506 non-null    float64\n 13  ram_type        368 non-null    object \n 14  ram_max         342 non-null    float64\n 15  memory          429 non-null    float64\n 16  os              496 non-null    object \n 17  battery_wh      508 non-null    float64\n 18  battery_cells   491 non-null    float64\n 19  weight_kg       512 non-null    float64\n 20  since           512 non-null    object \ndtypes: float64(14), object(7)\nmemory usage: 88.0+ KB\n"
    }
   ],
   "source": [
    "df.info()"
   ]
  },
  {
   "cell_type": "markdown",
   "metadata": {},
   "source": [
    "## Converting dtypes"
   ]
  },
  {
   "cell_type": "code",
   "execution_count": 5,
   "metadata": {},
   "outputs": [],
   "source": [
    "df = df.convert_dtypes()\n"
   ]
  },
  {
   "cell_type": "code",
   "execution_count": 6,
   "metadata": {},
   "outputs": [],
   "source": [
    "df.brand = df.brand.str.lower()\n",
    "df.brand = df.brand.astype('category')"
   ]
  },
  {
   "cell_type": "code",
   "execution_count": 7,
   "metadata": {},
   "outputs": [],
   "source": [
    "df.seller = df.seller.str.lower()\n",
    "df.seller = df.seller.astype('category')\n"
   ]
  },
  {
   "cell_type": "code",
   "execution_count": 8,
   "metadata": {},
   "outputs": [],
   "source": [
    "df.proc_brand = df.proc_brand.astype('category')\n"
   ]
  },
  {
   "cell_type": "code",
   "execution_count": 9,
   "metadata": {},
   "outputs": [],
   "source": [
    "df.os = df.os.astype('category')\n"
   ]
  },
  {
   "cell_type": "code",
   "execution_count": 10,
   "metadata": {},
   "outputs": [],
   "source": [
    "# df.screen_size_in = df.screen_size_in.astype('category')"
   ]
  },
  {
   "cell_type": "code",
   "execution_count": 11,
   "metadata": {},
   "outputs": [],
   "source": [
    "df.ram_type = df.ram_type.astype('category')"
   ]
  },
  {
   "cell_type": "code",
   "execution_count": 12,
   "metadata": {},
   "outputs": [],
   "source": [
    "# df.ram = df.ram.astype('category')"
   ]
  },
  {
   "cell_type": "code",
   "execution_count": 13,
   "metadata": {},
   "outputs": [],
   "source": [
    "df.since = pd.to_datetime(df.since)"
   ]
  },
  {
   "cell_type": "code",
   "execution_count": 14,
   "metadata": {},
   "outputs": [
    {
     "output_type": "stream",
     "name": "stdout",
     "text": "<class 'pandas.core.frame.DataFrame'>\nInt64Index: 512 entries, 0 to 511\nData columns (total 21 columns):\n #   Column          Non-Null Count  Dtype         \n---  ------          --------------  -----         \n 0   name            512 non-null    string        \n 1   price_current   220 non-null    float64       \n 2   price_original  41 non-null     float64       \n 3   reviews_number  469 non-null    Int64         \n 4   seller          512 non-null    category      \n 5   score           469 non-null    float64       \n 6   brand           512 non-null    category      \n 7   height_cm       469 non-null    float64       \n 8   width_cm        468 non-null    float64       \n 9   screen_size_in  509 non-null    Int64         \n 10  proc_brand      488 non-null    category      \n 11  proc_speed_ghz  448 non-null    float64       \n 12  ram             506 non-null    Int64         \n 13  ram_type        368 non-null    category      \n 14  ram_max         342 non-null    Int64         \n 15  memory          429 non-null    Int64         \n 16  os              496 non-null    category      \n 17  battery_wh      508 non-null    Int64         \n 18  battery_cells   491 non-null    Int64         \n 19  weight_kg       512 non-null    float64       \n 20  since           512 non-null    datetime64[ns]\ndtypes: Int64(7), category(5), datetime64[ns](1), float64(7), string(1)\nmemory usage: 79.6 KB\n"
    }
   ],
   "source": [
    "df.info()"
   ]
  },
  {
   "cell_type": "markdown",
   "metadata": {},
   "source": [
    "## Working with NAs and duplicates"
   ]
  },
  {
   "cell_type": "markdown",
   "metadata": {},
   "source": [
    "#### Features to simplify the management of NaNs"
   ]
  },
  {
   "cell_type": "code",
   "execution_count": 15,
   "metadata": {},
   "outputs": [],
   "source": [
    "def repl_na(column, value=0):\n",
    "    column.fillna(value, inplace=True)"
   ]
  },
  {
   "cell_type": "code",
   "execution_count": 16,
   "metadata": {},
   "outputs": [],
   "source": [
    "def most_common(column):\n",
    "    return column.value_counts().first_valid_index()"
   ]
  },
  {
   "cell_type": "code",
   "execution_count": 17,
   "metadata": {},
   "outputs": [],
   "source": [
    "def repl_common(column):\n",
    "    repl_na(column, most_common(column))"
   ]
  },
  {
   "cell_type": "markdown",
   "metadata": {},
   "source": [
    "#### Filling some fields with customs values"
   ]
  },
  {
   "cell_type": "code",
   "execution_count": 18,
   "metadata": {},
   "outputs": [],
   "source": [
    "repl_na(df.reviews_number)"
   ]
  },
  {
   "cell_type": "code",
   "execution_count": 19,
   "metadata": {},
   "outputs": [],
   "source": [
    "repl_na(df.score)\n"
   ]
  },
  {
   "cell_type": "code",
   "execution_count": 20,
   "metadata": {},
   "outputs": [],
   "source": [
    "repl_na(df.price_current, df.price_current.median())"
   ]
  },
  {
   "cell_type": "code",
   "execution_count": 21,
   "metadata": {},
   "outputs": [],
   "source": [
    "repl_na(df.price_original, df.price_current)"
   ]
  },
  {
   "cell_type": "code",
   "execution_count": 22,
   "metadata": {},
   "outputs": [],
   "source": [
    "repl_na(df.height_cm, df.height_cm.mean())"
   ]
  },
  {
   "cell_type": "code",
   "execution_count": 23,
   "metadata": {},
   "outputs": [],
   "source": [
    "repl_na(df.width_cm, df.width_cm.mean())"
   ]
  },
  {
   "cell_type": "markdown",
   "metadata": {},
   "source": [
    "#### The remaining columns with NaNs will be replaced by the most common value"
   ]
  },
  {
   "cell_type": "code",
   "execution_count": 24,
   "metadata": {},
   "outputs": [
    {
     "output_type": "execute_result",
     "data": {
      "text/plain": "Index(['screen_size_in', 'proc_brand', 'proc_speed_ghz', 'ram', 'ram_type',\n       'ram_max', 'memory', 'os', 'battery_wh', 'battery_cells'],\n      dtype='object')"
     },
     "metadata": {},
     "execution_count": 24
    }
   ],
   "source": [
    "df.columns[df.isna().any()]"
   ]
  },
  {
   "cell_type": "code",
   "execution_count": 25,
   "metadata": {},
   "outputs": [],
   "source": [
    "for column in df.columns[df.isna().any()]:\n",
    "    repl_common(df[column])"
   ]
  },
  {
   "cell_type": "code",
   "execution_count": 26,
   "metadata": {},
   "outputs": [
    {
     "output_type": "stream",
     "name": "stdout",
     "text": "<class 'pandas.core.frame.DataFrame'>\nInt64Index: 512 entries, 0 to 511\nData columns (total 21 columns):\n #   Column          Non-Null Count  Dtype         \n---  ------          --------------  -----         \n 0   name            512 non-null    string        \n 1   price_current   512 non-null    float64       \n 2   price_original  512 non-null    float64       \n 3   reviews_number  512 non-null    Int64         \n 4   seller          512 non-null    category      \n 5   score           512 non-null    float64       \n 6   brand           512 non-null    category      \n 7   height_cm       512 non-null    float64       \n 8   width_cm        512 non-null    float64       \n 9   screen_size_in  512 non-null    Int64         \n 10  proc_brand      512 non-null    category      \n 11  proc_speed_ghz  512 non-null    float64       \n 12  ram             512 non-null    Int64         \n 13  ram_type        512 non-null    category      \n 14  ram_max         512 non-null    Int64         \n 15  memory          512 non-null    Int64         \n 16  os              512 non-null    category      \n 17  battery_wh      512 non-null    Int64         \n 18  battery_cells   512 non-null    Int64         \n 19  weight_kg       512 non-null    float64       \n 20  since           512 non-null    datetime64[ns]\ndtypes: Int64(7), category(5), datetime64[ns](1), float64(7), string(1)\nmemory usage: 79.6 KB\n"
    }
   ],
   "source": [
    "df.info()"
   ]
  },
  {
   "cell_type": "markdown",
   "metadata": {},
   "source": [
    "## Detecting and managing outliers"
   ]
  },
  {
   "cell_type": "markdown",
   "metadata": {},
   "source": [
    "#### Configuration for BoxPlots"
   ]
  },
  {
   "cell_type": "code",
   "execution_count": 27,
   "metadata": {},
   "outputs": [],
   "source": [
    "def boxplot_config(ax, x, labels=None, title='', xlabel='', ylabel=''):\n",
    "    # Personalization of siymbols and lines\n",
    "    boxprops = dict(linestyle='--', linewidth=2, color='darkgoldenrod')\n",
    "    flierprops = dict(marker='o', markerfacecolor='green', markersize=6, label='outlier')\n",
    "    medianprops = dict(linestyle='-.', linewidth=2.5, color='firebrick', label='median')\n",
    "    meanpointprops = dict(marker='D', markeredgecolor='black', markerfacecolor='skyblue', label='mean')\n",
    "\n",
    "    bbplot = ax.boxplot(x,\n",
    "                    patch_artist=True,  # enable fill with color\n",
    "                    labels=labels,\n",
    "                    showmeans = True,\n",
    "                    boxprops=boxprops,\n",
    "                    flierprops=flierprops,\n",
    "                    medianprops=medianprops,\n",
    "                    meanprops=meanpointprops\n",
    "                    )\n",
    "\n",
    "    # Assigning color for each box\n",
    "    box_number = len( bbplot['boxes'] )\n",
    "\n",
    "    color_fracs = np.array(list( range( box_number )) ) / box_number\n",
    "\n",
    "    color_norm = matplotlib.colors.Normalize(color_fracs.min(), color_fracs.max())\n",
    "    color_norm\n",
    "\n",
    "    for frac, patch in zip(color_fracs, bbplot['boxes']):\n",
    "        color = plt.cm.summer(color_norm(frac))\n",
    "        patch.set_facecolor(color)\n",
    "\n",
    "    # Adding labels\n",
    "    ax.set_title(title)\n",
    "    ax.set_xlabel(xlabel)\n",
    "    ax.set_ylabel(ylabel)\n",
    "    ax.legend()\n"
   ]
  },
  {
   "cell_type": "markdown",
   "metadata": {},
   "source": [
    "## Showing filtered data and exporting processed data\n"
   ]
  },
  {
   "cell_type": "markdown",
   "metadata": {},
   "source": [
    "df_time = df.set_index(df.since).copy()\n",
    "df_time.head(2)"
   ]
  },
  {
   "cell_type": "markdown",
   "metadata": {},
   "source": [
    "df_time.resample('Y').median()"
   ]
  },
  {
   "cell_type": "markdown",
   "metadata": {},
   "source": [
    "df.to_csv('../Data/amazon_filtered_' + datetime.datetime.today().strftime('%m%d') + '.csv')"
   ]
  }
 ],
 "metadata": {
  "language_info": {
   "codemirror_mode": {
    "name": "ipython",
    "version": 3
   },
   "file_extension": ".py",
   "mimetype": "text/x-python",
   "name": "python",
   "nbconvert_exporter": "python",
   "pygments_lexer": "ipython3",
   "version": "3.8.2-final"
  },
  "orig_nbformat": 2,
  "kernelspec": {
   "name": "python38264bitplatzidatacondaa1916bf86f0645438a1bcc3f200d90b5",
   "display_name": "Python 3.8.2 64-bit ('platzi_data': conda)"
  }
 },
 "nbformat": 4,
 "nbformat_minor": 2
}