{
 "cells": [
  {
   "cell_type": "code",
   "execution_count": 1,
   "metadata": {},
   "outputs": [],
   "source": [
    "import pandas as pd\n",
    "import re\n",
    "import datetime"
   ]
  },
  {
   "cell_type": "code",
   "execution_count": 7,
   "metadata": {},
   "outputs": [
    {
     "output_type": "execute_result",
     "data": {
      "text/plain": "                                                name  price_current  \\\n0  Huawei MateBook D 15\" - AMD Ryzen, Windows 10-...        14999.0   \n1  Asus Laptop VivoBook 15.6\", Core i7,  8GB RAM,...        17999.0   \n\n   price_original  reviews_number  seller  score   brand          Series  \\\n0             NaN           156.0  Huawei    4.7  Huawei   Matebook D 15   \n1         19999.0             NaN    Asus    NaN    Asus  X512FA-BR1412T   \n\n  Color  height_cm  ...  Tipo de conexión inalámbrica  usb_2  usb_3  \\\n0  Gris       0.17  ...                     Bluetooth    2.0    1.0   \n1   NaN        NaN  ...                           NaN    2.0    2.0   \n\n   Tipo de unidad óptica               os battery_wh  battery_cells  \\\n0                   None  Windows 10 Home       42.0            2.0   \n1                Ninguno       Windows 10     1000.0            1.0   \n\n   weight_kg Número de modelo del producto       since  \n0        2.3                 6901443370764  2020-02-20  \n1        2.5                           NaN  2020-03-10  \n\n[2 rows x 39 columns]",
      "text/html": "<div>\n<style scoped>\n    .dataframe tbody tr th:only-of-type {\n        vertical-align: middle;\n    }\n\n    .dataframe tbody tr th {\n        vertical-align: top;\n    }\n\n    .dataframe thead th {\n        text-align: right;\n    }\n</style>\n<table border=\"1\" class=\"dataframe\">\n  <thead>\n    <tr style=\"text-align: right;\">\n      <th></th>\n      <th>name</th>\n      <th>price_current</th>\n      <th>price_original</th>\n      <th>reviews_number</th>\n      <th>seller</th>\n      <th>score</th>\n      <th>brand</th>\n      <th>Series</th>\n      <th>Color</th>\n      <th>height_cm</th>\n      <th>...</th>\n      <th>Tipo de conexión inalámbrica</th>\n      <th>usb_2</th>\n      <th>usb_3</th>\n      <th>Tipo de unidad óptica</th>\n      <th>os</th>\n      <th>battery_wh</th>\n      <th>battery_cells</th>\n      <th>weight_kg</th>\n      <th>Número de modelo del producto</th>\n      <th>since</th>\n    </tr>\n  </thead>\n  <tbody>\n    <tr>\n      <th>0</th>\n      <td>Huawei MateBook D 15\" - AMD Ryzen, Windows 10-...</td>\n      <td>14999.0</td>\n      <td>NaN</td>\n      <td>156.0</td>\n      <td>Huawei</td>\n      <td>4.7</td>\n      <td>Huawei</td>\n      <td>Matebook D 15</td>\n      <td>Gris</td>\n      <td>0.17</td>\n      <td>...</td>\n      <td>Bluetooth</td>\n      <td>2.0</td>\n      <td>1.0</td>\n      <td>None</td>\n      <td>Windows 10 Home</td>\n      <td>42.0</td>\n      <td>2.0</td>\n      <td>2.3</td>\n      <td>6901443370764</td>\n      <td>2020-02-20</td>\n    </tr>\n    <tr>\n      <th>1</th>\n      <td>Asus Laptop VivoBook 15.6\", Core i7,  8GB RAM,...</td>\n      <td>17999.0</td>\n      <td>19999.0</td>\n      <td>NaN</td>\n      <td>Asus</td>\n      <td>NaN</td>\n      <td>Asus</td>\n      <td>X512FA-BR1412T</td>\n      <td>NaN</td>\n      <td>NaN</td>\n      <td>...</td>\n      <td>NaN</td>\n      <td>2.0</td>\n      <td>2.0</td>\n      <td>Ninguno</td>\n      <td>Windows 10</td>\n      <td>1000.0</td>\n      <td>1.0</td>\n      <td>2.5</td>\n      <td>NaN</td>\n      <td>2020-03-10</td>\n    </tr>\n  </tbody>\n</table>\n<p>2 rows × 39 columns</p>\n</div>"
     },
     "metadata": {},
     "execution_count": 7
    }
   ],
   "source": [
    "df = pd.read_csv('../Data/amazon_clean_0512.csv', index_col=0)\n",
    "df.head(2)"
   ]
  },
  {
   "cell_type": "code",
   "execution_count": 3,
   "metadata": {},
   "outputs": [],
   "source": [
    "df = df.drop(columns=[\n",
    "    'Tecnología de la memoria', \n",
    "    'Tipo de unidad óptica', \n",
    "    'Tipo de conexión inalámbrica', \n",
    "    'Número de modelo del producto',\n",
    "    'usb_3',\n",
    "    'usb_2',\n",
    "    'Series',\n",
    "    'Color',\n",
    "    'Descripción del disco duro',\n",
    "    'Tipo de RAM para gráficos',\n",
    "    'memory_interface',\n",
    "    'gpu_interface',\n",
    "    'resolution_x',\n",
    "    'resolution_y',\n",
    "    'gpu_ram',\n",
    "    'Descripción de la tarjeta gráfica',\n",
    "    'Coprocesador de gráficos',\n",
    "    'Tipo de procesador'\n",
    "    ])"
   ]
  },
  {
   "cell_type": "code",
   "execution_count": 4,
   "metadata": {},
   "outputs": [
    {
     "output_type": "stream",
     "name": "stdout",
     "text": "<class 'pandas.core.frame.DataFrame'>\nRangeIndex: 512 entries, 0 to 511\nData columns (total 22 columns):\n #   Column          Non-Null Count  Dtype  \n---  ------          --------------  -----  \n 0   Unnamed: 0      512 non-null    int64  \n 1   name            512 non-null    object \n 2   price_current   220 non-null    float64\n 3   price_original  41 non-null     float64\n 4   reviews_number  469 non-null    float64\n 5   seller          512 non-null    object \n 6   score           469 non-null    float64\n 7   brand           512 non-null    object \n 8   height_cm       469 non-null    float64\n 9   width_cm        468 non-null    float64\n 10  screen_size_in  509 non-null    float64\n 11  proc_brand      488 non-null    object \n 12  proc_speed_ghz  448 non-null    float64\n 13  ram             506 non-null    float64\n 14  ram_type        368 non-null    object \n 15  ram_max         342 non-null    float64\n 16  memory          429 non-null    float64\n 17  os              496 non-null    object \n 18  battery_wh      508 non-null    float64\n 19  battery_cells   491 non-null    float64\n 20  weight_kg       512 non-null    float64\n 21  since           512 non-null    object \ndtypes: float64(14), int64(1), object(7)\nmemory usage: 88.1+ KB\n"
    }
   ],
   "source": [
    "df.info()"
   ]
  }
 ],
 "metadata": {
  "language_info": {
   "codemirror_mode": {
    "name": "ipython",
    "version": 3
   },
   "file_extension": ".py",
   "mimetype": "text/x-python",
   "name": "python",
   "nbconvert_exporter": "python",
   "pygments_lexer": "ipython3",
   "version": "3.8.2-final"
  },
  "orig_nbformat": 2,
  "kernelspec": {
   "name": "python3",
   "display_name": "Python 3"
  }
 },
 "nbformat": 4,
 "nbformat_minor": 2
}