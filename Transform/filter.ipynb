{
 "cells": [
  {
   "cell_type": "code",
   "execution_count": null,
   "metadata": {},
   "outputs": [],
   "source": [
    "import pandas as pd\n",
    "import numpy as np\n",
    "import matplotlib.pyplot as plt\n",
    "import matplotlib.colors\n",
    "import re\n",
    "import datetime\n",
    "\n",
    "%matplotlib inline\n"
   ]
  },
  {
   "cell_type": "code",
   "execution_count": null,
   "metadata": {},
   "outputs": [],
   "source": [
    "df = pd.read_csv('../Data/amazon_clean_0512.csv', index_col=0)\n",
    "df.head(2)"
   ]
  },
  {
   "cell_type": "markdown",
   "metadata": {},
   "source": [
    "## Droping unuseful column to this case"
   ]
  },
  {
   "cell_type": "code",
   "execution_count": null,
   "metadata": {},
   "outputs": [],
   "source": [
    "df = df.drop(columns=[\n",
    "    'Tecnología de la memoria', \n",
    "    'Tipo de unidad óptica', \n",
    "    'Tipo de conexión inalámbrica', \n",
    "    'Número de modelo del producto',\n",
    "    'usb_3',\n",
    "    'usb_2',\n",
    "    'Series',\n",
    "    'Color',\n",
    "    'Descripción del disco duro',\n",
    "    'Tipo de RAM para gráficos',\n",
    "    'memory_interface',\n",
    "    'gpu_interface',\n",
    "    'resolution_x',\n",
    "    'resolution_y',\n",
    "    'gpu_ram',\n",
    "    'Descripción de la tarjeta gráfica',\n",
    "    'Coprocesador de gráficos',\n",
    "    'Tipo de procesador'\n",
    "    ])"
   ]
  },
  {
   "cell_type": "code",
   "execution_count": null,
   "metadata": {},
   "outputs": [],
   "source": [
    "df.info()"
   ]
  },
  {
   "cell_type": "markdown",
   "metadata": {},
   "source": [
    "## Converting dtypes"
   ]
  },
  {
   "cell_type": "code",
   "execution_count": null,
   "metadata": {},
   "outputs": [],
   "source": [
    "df = df.convert_dtypes()\n"
   ]
  },
  {
   "cell_type": "code",
   "execution_count": null,
   "metadata": {},
   "outputs": [],
   "source": [
    "df.brand = df.brand.str.lower()\n",
    "df.brand = df.brand.astype('category')"
   ]
  },
  {
   "cell_type": "code",
   "execution_count": null,
   "metadata": {},
   "outputs": [],
   "source": [
    "df.seller = df.seller.str.lower()\n",
    "df.seller = df.seller.astype('category')\n"
   ]
  },
  {
   "cell_type": "code",
   "execution_count": null,
   "metadata": {},
   "outputs": [],
   "source": [
    "df.proc_brand = df.proc_brand.astype('category')\n"
   ]
  },
  {
   "cell_type": "code",
   "execution_count": null,
   "metadata": {},
   "outputs": [],
   "source": [
    "df.os = df.os.astype('category')\n"
   ]
  },
  {
   "cell_type": "code",
   "execution_count": null,
   "metadata": {},
   "outputs": [],
   "source": [
    "df.ram_type = df.ram_type.astype('category')"
   ]
  },
  {
   "cell_type": "code",
   "execution_count": null,
   "metadata": {},
   "outputs": [],
   "source": [
    "df.since = pd.to_datetime(df.since)"
   ]
  },
  {
   "cell_type": "code",
   "execution_count": null,
   "metadata": {},
   "outputs": [],
   "source": [
    "df.info()"
   ]
  },
  {
   "cell_type": "code",
   "execution_count": null,
   "metadata": {},
   "outputs": [],
   "source": [
    "df.describe()"
   ]
  },
  {
   "cell_type": "code",
   "execution_count": null,
   "metadata": {},
   "outputs": [],
   "source": [
    "df.describe(include='category')"
   ]
  },
  {
   "cell_type": "markdown",
   "metadata": {},
   "source": [
    "## Working with NAs and duplicates"
   ]
  },
  {
   "cell_type": "markdown",
   "metadata": {},
   "source": [
    "#### Features to simplify the management of NaNs"
   ]
  },
  {
   "cell_type": "code",
   "execution_count": null,
   "metadata": {},
   "outputs": [],
   "source": [
    "def most_common(column):\n",
    "    return column.value_counts().first_valid_index()"
   ]
  },
  {
   "cell_type": "code",
   "execution_count": null,
   "metadata": {},
   "outputs": [],
   "source": [
    "def repl_na(column, default = True, value = -1):\n",
    "    if default:\n",
    "        if column.dtype == 'Int64' or column.dtype == 'float64':\n",
    "            column.fillna(column.median(), inplace=True)\n",
    "\n",
    "        elif column.dtype == 'category':\n",
    "            column.fillna(most_common(column), inplace=True)\n",
    "    else:\n",
    "        column.fillna(value, inplace=True)"
   ]
  },
  {
   "cell_type": "markdown",
   "metadata": {},
   "source": [
    "#### Filling some fields with customs values"
   ]
  },
  {
   "cell_type": "code",
   "execution_count": null,
   "metadata": {},
   "outputs": [],
   "source": [
    "repl_na(df.price_original, False, df.price_current)"
   ]
  },
  {
   "cell_type": "markdown",
   "metadata": {},
   "source": [
    "#### The remaining columns with NaNs will be replaced by the most common value for categoricals and by the median for numericals"
   ]
  },
  {
   "cell_type": "code",
   "execution_count": null,
   "metadata": {},
   "outputs": [],
   "source": [
    "df.columns[df.isna().any()]"
   ]
  },
  {
   "cell_type": "code",
   "execution_count": null,
   "metadata": {},
   "outputs": [],
   "source": [
    "for column in df.columns[df.isna().any()]:\n",
    "    repl_na(df[column])\n"
   ]
  },
  {
   "cell_type": "code",
   "execution_count": null,
   "metadata": {},
   "outputs": [],
   "source": [
    "df.info()"
   ]
  },
  {
   "cell_type": "code",
   "execution_count": null,
   "metadata": {},
   "outputs": [],
   "source": [
    "df.describe()"
   ]
  },
  {
   "cell_type": "code",
   "execution_count": null,
   "metadata": {},
   "outputs": [],
   "source": [
    "df.describe(include='category')"
   ]
  },
  {
   "cell_type": "markdown",
   "metadata": {},
   "source": [
    "## Detecting and managing outliers"
   ]
  },
  {
   "cell_type": "markdown",
   "metadata": {},
   "source": [
    "#### Configuration for plotting"
   ]
  },
  {
   "cell_type": "code",
   "execution_count": null,
   "metadata": {},
   "outputs": [],
   "source": [
    "def plot_color(color_fractions, patches_to_paint, color_to_paint=plt.cm.Blues):\n",
    "    color_normalized = matplotlib.colors.Normalize(color_fractions.min(), color_fractions.max())\n",
    "\n",
    "    for fraction, patch in zip(color_fractions, patches_to_paint):\n",
    "        color = color_to_paint(color_normalized(fraction))\n",
    "        patch.set_facecolor(color)"
   ]
  },
  {
   "cell_type": "code",
   "execution_count": null,
   "metadata": {},
   "outputs": [],
   "source": [
    "def boxplot_config(ax, x, labels=None, title='', x_label='', y_label=''):\n",
    "    # Personalization of siymbols and lines\n",
    "    boxprops = dict( linestyle='--', linewidth=1, color='black' )\n",
    "    flierprops = dict( marker='o', markerfacecolor='skyblue', markersize=6, label='outlier' )\n",
    "    medianprops = dict( linestyle='-.', linewidth=2.5, color='green', label='median' )\n",
    "    meanpointprops = dict( marker='D', markeredgecolor='black', markerfacecolor='skyblue', label='mean' )\n",
    "\n",
    "    bbplot_patches = ax.boxplot(x,\n",
    "                    patch_artist=True,  # enable fill with color\n",
    "                    labels=labels,\n",
    "                    showmeans = True,\n",
    "                    boxprops=boxprops,\n",
    "                    flierprops=flierprops,\n",
    "                    medianprops=medianprops,\n",
    "                    meanprops=meanpointprops\n",
    "                    )\n",
    "\n",
    "    # Assigning color for each box\n",
    "    box_number = len( bbplot_patches['boxes'] )\n",
    "    color_fractions = np.array( list( range(box_number) ) ) / box_number\n",
    "    plot_color(color_fractions, bbplot_patches['boxes'], plt.cm.tab20)\n",
    "    \n",
    "    # Adding labels\n",
    "    ax.set_title(title)\n",
    "    ax.set_xlabel(x_label)\n",
    "    ax.set_ylabel(y_label)\n",
    "    ax.legend()\n"
   ]
  },
  {
   "cell_type": "code",
   "execution_count": null,
   "metadata": {},
   "outputs": [],
   "source": [
    "def histogram_config(ax, x, title='', x_label='', y_label=''):\n",
    "    frequencies, _ , bar_patches = ax.hist(x, edgecolor='k', linewidth=1)\n",
    "    \n",
    "    color_fractions = frequencies / frequencies.max()\n",
    "    plot_color(color_fractions, bar_patches)\n",
    "\n",
    "    ax.set_xlabel(x_label)\n",
    "    ax.set_ylabel(y_label)\n",
    "    ax.set_title(title)\n",
    "    ax.tick_params(axis='x', labelrotation=90)\n",
    "    ax.tick_params(axis='y', labelrotation=45)\n"
   ]
  },
  {
   "cell_type": "code",
   "execution_count": null,
   "metadata": {},
   "outputs": [],
   "source": [
    "def _print_plots(dataframe, dtype, plot_cols, plot_func):\n",
    "    columns_names = dataframe.select_dtypes(include=dtype).columns\n",
    "\n",
    "    plots_quantity = len( columns_names )\n",
    "\n",
    "    plot_rows = int( np.ceil( plots_quantity / plot_cols ) )\n",
    "    plot_size_y = plot_rows * 5\n",
    "    plot_size_x = plot_cols * 10\n",
    "\n",
    "    fig, ax = plt.subplots( plot_rows, plot_cols, figsize=(plot_size_x, plot_size_y) )\n",
    "\n",
    "    for nrow in range(plot_rows):\n",
    "        for ncol in range(plot_cols):\n",
    "            if plots_quantity >= 1:\n",
    "                plots_quantity -= 1\n",
    "                plot_func( ax[nrow][ncol], dataframe[ columns_names[plots_quantity] ], title=columns_names[plots_quantity] )\n",
    "            else:\n",
    "                break"
   ]
  },
  {
   "cell_type": "code",
   "execution_count": null,
   "metadata": {},
   "outputs": [],
   "source": [
    "def dynamic_plot(dataframe, dtype = 'number', plot_cols = 2):\n",
    "    isint = 'int' in ''.join(dtype).lower()\n",
    "    isfloat = 'float' in ''.join(dtype).lower()\n",
    "    isnumber_type = dtype == 'number'  or isint or isfloat\n",
    "\n",
    "    if dtype == 'category':\n",
    "        _print_plots(dataframe, dtype, plot_cols, histogram_config)\n",
    "\n",
    "    elif isnumber_type:\n",
    "        _print_plots(dataframe, dtype, plot_cols, boxplot_config)"
   ]
  },
  {
   "cell_type": "markdown",
   "metadata": {},
   "source": [
    "### Plotting"
   ]
  },
  {
   "cell_type": "code",
   "execution_count": null,
   "metadata": {},
   "outputs": [],
   "source": [
    "df.select_dtypes(include = 'number').columns"
   ]
  },
  {
   "cell_type": "code",
   "execution_count": null,
   "metadata": {},
   "outputs": [],
   "source": [
    "dynamic_plot(df)"
   ]
  },
  {
   "cell_type": "markdown",
   "metadata": {},
   "source": [
    "### Hunting Outliers & duplicates"
   ]
  },
  {
   "cell_type": "code",
   "execution_count": null,
   "metadata": {},
   "outputs": [],
   "source": [
    "df.drop(df[df.price_current > 40000].index,axis=0, inplace=True)\n",
    "df = df.reset_index(drop=True)"
   ]
  },
  {
   "cell_type": "code",
   "execution_count": null,
   "metadata": {},
   "outputs": [],
   "source": [
    "df.height_cm[df.height_cm > 3] = df.height_cm.median()"
   ]
  },
  {
   "cell_type": "code",
   "execution_count": null,
   "metadata": {},
   "outputs": [],
   "source": [
    "df.width_cm[(df.width_cm > 45) | (df.width_cm < 18)] = df.width_cm.median()"
   ]
  },
  {
   "cell_type": "code",
   "execution_count": null,
   "metadata": {},
   "outputs": [],
   "source": [
    "df.proc_speed_ghz[df.proc_speed_ghz > 500] = df.proc_speed_ghz[df.proc_speed_ghz > 500] / 1000\n",
    "df.proc_speed_ghz[df.proc_speed_ghz == 64] = df.proc_speed_ghz.median()"
   ]
  },
  {
   "cell_type": "code",
   "execution_count": null,
   "metadata": {},
   "outputs": [],
   "source": [
    "df.ram[df.ram > 128] = df.ram.median()"
   ]
  },
  {
   "cell_type": "code",
   "execution_count": null,
   "metadata": {},
   "outputs": [],
   "source": [
    "df.ram_max[df.ram_max > 128] = df.ram_max.median()"
   ]
  },
  {
   "cell_type": "code",
   "execution_count": null,
   "metadata": {},
   "outputs": [],
   "source": [
    "df.battery_wh[df.battery_wh > 1e+02] = df.battery_wh.median()"
   ]
  },
  {
   "cell_type": "code",
   "execution_count": null,
   "metadata": {},
   "outputs": [],
   "source": [
    "df.battery_cells[df.battery_cells > 6] = df.battery_cells.median()"
   ]
  },
  {
   "cell_type": "code",
   "execution_count": null,
   "metadata": {},
   "outputs": [],
   "source": [
    "df.weight_kg[df.weight_kg > 7] = df.weight_kg.median()"
   ]
  },
  {
   "cell_type": "code",
   "execution_count": null,
   "metadata": {},
   "outputs": [],
   "source": [
    "df.select_dtypes(include='category').columns"
   ]
  },
  {
   "cell_type": "code",
   "execution_count": null,
   "metadata": {},
   "outputs": [],
   "source": [
    "dynamic_plot(df, 'category')"
   ]
  },
  {
   "cell_type": "code",
   "execution_count": null,
   "metadata": {},
   "outputs": [],
   "source": [
    "def drop_contains(dataframe, columns_names):\n",
    "    # columns_names = dataframe.select_dtypes(include='category').columns\n",
    "    for column in columns_names:\n",
    "\n",
    "        half_list_uniques = np.ceil( len( dataframe[column].unique() ) / 2 ).astype('int')\n",
    "        list_uniques = dataframe[column].unique()[ 0:half_list_uniques ]\n",
    "\n",
    "        for unique in list_uniques:\n",
    "            dataframe[column] [ dataframe[column].str.contains(unique, case=False) ] = unique"
   ]
  },
  {
   "cell_type": "code",
   "execution_count": null,
   "metadata": {},
   "outputs": [],
   "source": [
    "df.select_dtypes(include='category').columns"
   ]
  },
  {
   "cell_type": "code",
   "execution_count": null,
   "metadata": {},
   "outputs": [],
   "source": [
    "drop_contains(df, ['seller', 'brand', 'proc_brand', 'os'])"
   ]
  },
  {
   "cell_type": "markdown",
   "metadata": {},
   "source": [
    "## Showing filtered data and exporting processed data\n"
   ]
  },
  {
   "cell_type": "markdown",
   "metadata": {},
   "source": [
    "### Plotting numeric variables"
   ]
  },
  {
   "cell_type": "code",
   "execution_count": null,
   "metadata": {},
   "outputs": [],
   "source": [
    "dynamic_plot(df)"
   ]
  },
  {
   "cell_type": "markdown",
   "metadata": {},
   "source": [
    "### Plotting categorical variables"
   ]
  },
  {
   "cell_type": "code",
   "execution_count": null,
   "metadata": {},
   "outputs": [],
   "source": [
    "dynamic_plot(df, 'category')"
   ]
  },
  {
   "cell_type": "code",
   "execution_count": null,
   "metadata": {},
   "outputs": [],
   "source": [
    "df.head(2)"
   ]
  },
  {
   "cell_type": "code",
   "execution_count": null,
   "metadata": {},
   "outputs": [],
   "source": [
    "df.to_csv('../Data/amazon_filtered_' + datetime.datetime.today().strftime('%m%d') + '.csv')"
   ]
  },
  {
   "cell_type": "code",
   "execution_count": null,
   "metadata": {},
   "outputs": [],
   "source": [
    "df_time = df.set_index(df.since).copy()\n",
    "df_time.head(2)"
   ]
  },
  {
   "cell_type": "code",
   "execution_count": null,
   "metadata": {},
   "outputs": [],
   "source": [
    "df_time.resample('Y').mean()"
   ]
  },
  {
   "cell_type": "code",
   "execution_count": null,
   "metadata": {},
   "outputs": [],
   "source": [
    "df_time.resample('Y').median()"
   ]
  }
 ],
 "metadata": {
  "language_info": {
   "codemirror_mode": {
    "name": "ipython",
    "version": 3
   },
   "file_extension": ".py",
   "mimetype": "text/x-python",
   "name": "python",
   "nbconvert_exporter": "python",
   "pygments_lexer": "ipython3",
   "version": "3.7.6-final"
  },
  "orig_nbformat": 2,
  "kernelspec": {
   "name": "python3",
   "display_name": "Python 3"
  }
 },
 "nbformat": 4,
 "nbformat_minor": 2
}