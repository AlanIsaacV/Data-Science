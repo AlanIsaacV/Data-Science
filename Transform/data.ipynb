{
 "cells": [
  {
   "cell_type": "code",
   "execution_count": null,
   "metadata": {},
   "outputs": [],
   "source": [
    "import pandas as pd\n",
    "import re\n",
    "import datetime"
   ]
  },
  {
   "cell_type": "markdown",
   "metadata": {},
   "source": [
    "## Loading and Displaying initial data"
   ]
  },
  {
   "cell_type": "code",
   "execution_count": null,
   "metadata": {},
   "outputs": [],
   "source": [
    "df = pd.read_csv('../Extract/amazon_0507.csv')\n",
    "df.head(2)"
   ]
  },
  {
   "cell_type": "code",
   "execution_count": null,
   "metadata": {},
   "outputs": [],
   "source": [
    "df.info()"
   ]
  },
  {
   "cell_type": "markdown",
   "metadata": {},
   "source": [
    "## Defining functions for transformation and cleaning"
   ]
  },
  {
   "cell_type": "code",
   "execution_count": null,
   "metadata": {},
   "outputs": [],
   "source": [
    "def del_na(column):\n",
    "    return column[column.notna()]"
   ]
  },
  {
   "cell_type": "code",
   "execution_count": null,
   "metadata": {},
   "outputs": [],
   "source": [
    "def only_first(cell, cast='int'):\n",
    "    if cast == 'int':\n",
    "        return int(cell.split()[0])\n",
    "    else:\n",
    "        return float(cell.split()[0])"
   ]
  },
  {
   "cell_type": "code",
   "execution_count": null,
   "metadata": {},
   "outputs": [],
   "source": [
    "def to_watts(cell):\n",
    "    cell = cell.split(' ')\n",
    "    watts = float(cell[0])\n",
    "    if 'kilowatt' in cell[1]:\n",
    "        watts *=  1000\n",
    "    elif 'milliamp' in cell[1]:\n",
    "        volts = 12\n",
    "        watts = (watts*volts)/1000\n",
    "    \n",
    "    return int(watts)"
   ]
  },
  {
   "cell_type": "code",
   "execution_count": null,
   "metadata": {},
   "outputs": [],
   "source": [
    "def cast_int(value):\n",
    "    try:\n",
    "        return int(value)\n",
    "    except:\n",
    "        return None        "
   ]
  },
  {
   "cell_type": "code",
   "execution_count": null,
   "metadata": {},
   "outputs": [],
   "source": [
    "def rename_col(dict_name):\n",
    "    df.rename(columns = dict_name, inplace = True)"
   ]
  },
  {
   "cell_type": "code",
   "execution_count": null,
   "metadata": {},
   "outputs": [],
   "source": [
    "months_list = [\"enero\", \"febrero\", \"marzo\", \n",
    "                \"abril\", \"mayo\", \"junio\", \n",
    "                \"julio\", \"agosto\", \"septiembre\", \n",
    "                \"octubre\", \"noviembre\", \"diciembre\"]\n",
    "month_dict = {}\n",
    "month_value = 1\n",
    "\n",
    "for month in months_list:\n",
    "    month_dict[month] = month_value\n",
    "    month_value += 1\n",
    "\n",
    "def to_date(date_text):\n",
    "    date_text = date_text.split()\n",
    "    day = int(date_text[0])\n",
    "    month = month_dict[date_text[2]]\n",
    "    year = int(date_text[4])\n",
    "\n",
    "    return datetime.date(year, month, day)"
   ]
  },
  {
   "cell_type": "markdown",
   "metadata": {},
   "source": [
    "## Transforming data"
   ]
  },
  {
   "cell_type": "code",
   "execution_count": null,
   "metadata": {},
   "outputs": [],
   "source": [
    "# Deleted empty column\n",
    "df.drop(df.columns[35], axis='columns', inplace=True)"
   ]
  },
  {
   "cell_type": "code",
   "execution_count": null,
   "metadata": {},
   "outputs": [],
   "source": [
    "# Delete '/n' of each name\n",
    "space = re.compile('^\\s+\\n*(.*?.)\\s+\\n\\s*')\n",
    "\n",
    "df.name = df.name.apply( \n",
    "    lambda x: space.sub(r'\\1', x) )"
   ]
  },
  {
   "cell_type": "code",
   "execution_count": null,
   "metadata": {},
   "outputs": [],
   "source": [
    "# price_current\n",
    "df.price_current = del_na(df.price_current).apply(\n",
    "    lambda x: float( x.replace('$', '').replace(',', '')) )"
   ]
  },
  {
   "cell_type": "code",
   "execution_count": null,
   "metadata": {},
   "outputs": [],
   "source": [
    "# price_original\n",
    "df.price_original = del_na(df.price_original).apply(\n",
    "    lambda x: float(x.replace('$', '').replace(',', '')) )"
   ]
  },
  {
   "cell_type": "code",
   "execution_count": null,
   "metadata": {},
   "outputs": [],
   "source": [
    "# reviews_number\n",
    "df.reviews_number = del_na(df.reviews_number).apply(\n",
    "    lambda x: only_first(x.replace(',', ''), 'int') )"
   ]
  },
  {
   "cell_type": "code",
   "execution_count": null,
   "metadata": {},
   "outputs": [],
   "source": [
    "# score\n",
    "df.score = del_na(df.score).apply(\n",
    "    only_first, args = ('float',) )"
   ]
  },
  {
   "cell_type": "code",
   "execution_count": null,
   "metadata": {},
   "outputs": [],
   "source": [
    "# alto\n",
    "rename_col({'Alto del producto' : 'height_cm'})\n",
    "\n",
    "df.height_cm = del_na(df.height_cm).apply( \n",
    "    lambda x:  only_first(x, 'float')   if 'cent' in x    else only_first(x) / 100 )"
   ]
  },
  {
   "cell_type": "code",
   "execution_count": null,
   "metadata": {},
   "outputs": [],
   "source": [
    "# ancho\n",
    "rename_col({'Ancho del producto' : 'width_cm'})\n",
    "\n",
    "df.width_cm = del_na(df.width_cm).apply( \n",
    "    lambda x: only_first(x, 'float')    if 'cent' in x    else only_first(x) / 100 )"
   ]
  },
  {
   "cell_type": "code",
   "execution_count": null,
   "metadata": {},
   "outputs": [],
   "source": [
    "# screen_size_in\n",
    "rename_col({'Tamaño de la pantalla' : 'screen_size_in'})\n",
    "df.screen_size_in = del_na(df.screen_size_in).apply(\n",
    "    lambda x: round(only_first(x, 'float'), 0))\n",
    "df.screen_size_in = df.screen_size_in.astype('category')"
   ]
  },
  {
   "cell_type": "code",
   "execution_count": null,
   "metadata": {},
   "outputs": [],
   "source": [
    "# proc_speed_ghz\n",
    "rename_col({'Velocidad del procesador' : 'proc_speed_ghz'})\n",
    "\n",
    "df.proc_speed_ghz = del_na(df.proc_speed_ghz).apply(only_first, args = ('float',) )"
   ]
  },
  {
   "cell_type": "code",
   "execution_count": null,
   "metadata": {},
   "outputs": [],
   "source": [
    "# ram\n",
    "rename_col({'Tamaño de RAM': 'ram'})\n",
    "\n",
    "df.ram = del_na(df.ram).apply(only_first)"
   ]
  },
  {
   "cell_type": "code",
   "execution_count": null,
   "metadata": {},
   "outputs": [],
   "source": [
    "# ram_max\n",
    "rename_col({'Memoria máxima compatible': 'ram_max'})\n",
    "\n",
    "df.ram_max = del_na(df.ram_max).apply(only_first, args=('float',) )"
   ]
  },
  {
   "cell_type": "code",
   "execution_count": null,
   "metadata": {},
   "outputs": [],
   "source": [
    "# memory\n",
    "rename_col({'Tamaño de la unidad de disco duro' : 'memory',})\n",
    "\n",
    "df.memory = del_na(df.memory).apply(only_first)"
   ]
  },
  {
   "cell_type": "code",
   "execution_count": null,
   "metadata": {},
   "outputs": [],
   "source": [
    "# gpu_ram\n",
    "rename_col({'Tamaño de RAM de la tarjeta gráfica' : 'gpu_ram',})\n",
    "\n",
    "df.gpu_ram = del_na(df.gpu_ram).apply(only_first)"
   ]
  },
  {
   "cell_type": "code",
   "execution_count": null,
   "metadata": {},
   "outputs": [],
   "source": [
    "# usb_2\n",
    "rename_col({'Número de puertos USB 2.0': 'usb_2',})\n",
    "\n",
    "df.usb_2 = del_na(df.usb_2).apply(int)"
   ]
  },
  {
   "cell_type": "code",
   "execution_count": null,
   "metadata": {},
   "outputs": [],
   "source": [
    "# usb_3\n",
    "rename_col({'Número de puertos USB 3.0': 'usb_3',})\n",
    "\n",
    "df.usb_3 = del_na(df.usb_3).apply(int)"
   ]
  },
  {
   "cell_type": "code",
   "execution_count": null,
   "metadata": {},
   "outputs": [],
   "source": [
    "# battey\n",
    "rename_col({'Lithium Battery Energy Content' : 'battery_wh',})\n",
    "\n",
    "df.battery_wh = del_na(df.battery_wh).apply(to_watts)"
   ]
  },
  {
   "cell_type": "code",
   "execution_count": null,
   "metadata": {},
   "outputs": [],
   "source": [
    "# battery_cells\n",
    "rename_col({'Number of Lithium Ion Cells' : 'battery_cells',})\n",
    "df.battery_cells = del_na(df.battery_cells).apply(int)\n",
    "df.battery_cells = df.battery_cells.astype('category')"
   ]
  },
  {
   "cell_type": "code",
   "execution_count": null,
   "metadata": {},
   "outputs": [],
   "source": [
    "# weight_kg\n",
    "rename_col({'Peso del envío' : 'weight_kg'})\n",
    "\n",
    "df.weight_kg = del_na(df.weight_kg).apply(only_first, args=('float',) )"
   ]
  },
  {
   "cell_type": "code",
   "execution_count": null,
   "metadata": {},
   "outputs": [],
   "source": [
    "# new column with resolution X of scree from screen resolution\n",
    "df['resolution_x'] = del_na(df['Resolución de la pantalla']).apply(\n",
    "    lambda x: x.replace(' ', '').split('x')[0]\n",
    "    ).apply(cast_int)"
   ]
  },
  {
   "cell_type": "code",
   "execution_count": null,
   "metadata": {},
   "outputs": [],
   "source": [
    "# new column with resolution Y of screen from screen resolution\n",
    "df['resolution_y'] = del_na(df['Resolución de la pantalla']).apply( \n",
    "    lambda x: x.split('x')[1].split()[0] if len(x.split('x')) > 1 else None \n",
    "    ).apply(cast_int)"
   ]
  },
  {
   "cell_type": "code",
   "execution_count": null,
   "metadata": {},
   "outputs": [],
   "source": [
    "# Ordering columns ['resolution_x' & 'resolution_y'] after column index 12\n",
    "df = df[df.columns.to_list()[:13] + ['resolution_x', 'resolution_y'] + df.columns.to_list()[12:-2]]"
   ]
  },
  {
   "cell_type": "code",
   "execution_count": null,
   "metadata": {},
   "outputs": [],
   "source": [
    "# Drop old column of screen resolution\n",
    "del df['Resolución de la pantalla']"
   ]
  },
  {
   "cell_type": "code",
   "execution_count": null,
   "metadata": {},
   "outputs": [],
   "source": [
    "rename_col({'Tipo de memoria del equipo' : 'ram_type'})\n",
    "df.ram_type = del_na(df.ram_type).apply(lambda x: x.split()[0])\n",
    "df.ram_type = df.ram_type.astype('category')"
   ]
  },
  {
   "cell_type": "code",
   "execution_count": null,
   "metadata": {},
   "outputs": [],
   "source": [
    "# since\n",
    "rename_col({'Producto en Amazon.com.mx desde' : 'since'})\n",
    "df.since = df.since.apply(to_date)\n",
    "df.since = df.since.astype('datetime64[ns]')"
   ]
  },
  {
   "cell_type": "markdown",
   "metadata": {},
   "source": [
    "## Transforming DTypes"
   ]
  },
  {
   "cell_type": "code",
   "execution_count": null,
   "metadata": {},
   "outputs": [],
   "source": [
    "# Perform types of DataFrame\n",
    "df = df.convert_dtypes()\n"
   ]
  },
  {
   "cell_type": "code",
   "execution_count": null,
   "metadata": {},
   "outputs": [],
   "source": [
    "rename_col({'Marca' : 'brand'})\n",
    "df.brand = df.brand.astype('category')"
   ]
  },
  {
   "cell_type": "code",
   "execution_count": null,
   "metadata": {},
   "outputs": [],
   "source": [
    "df.seller = df.seller.astype('category')"
   ]
  },
  {
   "cell_type": "code",
   "execution_count": null,
   "metadata": {},
   "outputs": [],
   "source": [
    "rename_col({'Marca del procesador' : 'proc_brand'})\n",
    "df.proc_brand = df.proc_brand.astype('category')"
   ]
  },
  {
   "cell_type": "code",
   "execution_count": null,
   "metadata": {},
   "outputs": [],
   "source": [
    "rename_col({'Interfaz de la unidad de disco duro' : 'memory_interface'})\n",
    "df.memory_interface = df.memory_interface.astype('category')"
   ]
  },
  {
   "cell_type": "code",
   "execution_count": null,
   "metadata": {},
   "outputs": [],
   "source": [
    "rename_col({'Sistema operativo' : 'os'})\n",
    "df.os = df.os.astype('category')"
   ]
  },
  {
   "cell_type": "code",
   "execution_count": null,
   "metadata": {},
   "outputs": [],
   "source": [
    "rename_col({'Interfaz de la tarjeta gráfica' : 'gpu_interface'})\n",
    "df.gpu_interface = df.gpu_interface.astype('category')"
   ]
  },
  {
   "cell_type": "code",
   "execution_count": null,
   "metadata": {},
   "outputs": [],
   "source": []
  },
  {
   "cell_type": "markdown",
   "metadata": {},
   "source": [
    "## Showing clean data and exporting processed data"
   ]
  },
  {
   "cell_type": "code",
   "execution_count": null,
   "metadata": {},
   "outputs": [],
   "source": [
    "df.info()"
   ]
  },
  {
   "cell_type": "code",
   "execution_count": null,
   "metadata": {},
   "outputs": [],
   "source": [
    "df.head(2)"
   ]
  },
  {
   "cell_type": "code",
   "execution_count": null,
   "metadata": {},
   "outputs": [],
   "source": [
    "df.to_csv('amazon_clean_' + datetime.datetime.today().strftime('%m%d') + '.csv')"
   ]
  },
  {
   "cell_type": "code",
   "execution_count": null,
   "metadata": {},
   "outputs": [],
   "source": [
    "df_filtered = df.drop(columns=[\n",
    "    'Tecnología de la memoria', \n",
    "    'Tipo de unidad óptica', \n",
    "    'Tipo de conexión inalámbrica', \n",
    "    'Número de modelo del producto',\n",
    "    'usb_3',\n",
    "    'usb_2',\n",
    "    'Series',\n",
    "    'Color',\n",
    "    'Descripción del disco duro',\n",
    "    'Tipo de RAM para gráficos',\n",
    "    'memory_interface',\n",
    "    'gpu_interface',\n",
    "    'resolution_x',\n",
    "    'resolution_y',\n",
    "    'gpu_ram',\n",
    "    'Descripción de la tarjeta gráfica',\n",
    "    'Coprocesador de gráficos',\n",
    "    'Tipo de procesador'\n",
    "    ])"
   ]
  },
  {
   "cell_type": "code",
   "execution_count": null,
   "metadata": {},
   "outputs": [],
   "source": [
    "df.info()"
   ]
  }
 ],
 "metadata": {
  "language_info": {
   "codemirror_mode": {
    "name": "ipython",
    "version": 3
   },
   "file_extension": ".py",
   "mimetype": "text/x-python",
   "name": "python",
   "nbconvert_exporter": "python",
   "pygments_lexer": "ipython3",
   "version": "3.8.2-final"
  },
  "orig_nbformat": 2,
  "kernelspec": {
   "name": "python38264bitplatzidatacondaa1916bf86f0645438a1bcc3f200d90b5",
   "display_name": "Python 3.8.2 64-bit ('platzi_data': conda)"
  }
 },
 "nbformat": 4,
 "nbformat_minor": 2
}