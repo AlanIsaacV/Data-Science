{
 "cells": [
  {
   "cell_type": "code",
   "execution_count": 1,
   "metadata": {},
   "outputs": [],
   "source": [
    "import pandas as pd\n",
    "import re\n",
    "import datetime"
   ]
  },
  {
   "cell_type": "markdown",
   "metadata": {},
   "source": [
    "## Loading and Displaying initial data"
   ]
  },
  {
   "cell_type": "code",
   "execution_count": 2,
   "metadata": {},
   "outputs": [
    {
     "output_type": "execute_result",
     "data": {
      "text/plain": "                                                name price_current  \\\n0  \\r\\n                \\r\\n                    \\r...    $14,999.00   \n1  \\r\\n                \\r\\n                    \\r...    $17,999.00   \n\n  price_original      reviews_number  seller               score   Marca  \\\n0            NaN  156 calificaciones  Huawei  4.7 de 5 estrellas  Huawei   \n1     $19,999.00                 NaN    Asus                 NaN    Asus   \n\n           Series Color Alto del producto  ... Número de puertos USB 2.0  \\\n0   Matebook D 15  Gris    17 millimeters  ...                       2.0   \n1  X512FA-BR1412T   NaN               NaN  ...                       2.0   \n\n  Número de puertos USB 3.0 Tipo de unidad óptica Sistema operativo  \\\n0                       1.0                  None   Windows 10 Home   \n1                       2.0               Ninguno        Windows 10   \n\n  Lithium Battery Energy Content Number of Lithium Ion Cells     \\\n0                  42 watt_hours                         2.0      \n1               1 kilowatt_hours                         1.0      \n\n  Peso del envío Número de modelo del producto Producto en Amazon.com.mx desde  \n0         2.3 Kg                 6901443370764           20 de febrero de 2020  \n1         2.5 Kg                           NaN             10 de marzo de 2020  \n\n[2 rows x 39 columns]",
      "text/html": "<div>\n<style scoped>\n    .dataframe tbody tr th:only-of-type {\n        vertical-align: middle;\n    }\n\n    .dataframe tbody tr th {\n        vertical-align: top;\n    }\n\n    .dataframe thead th {\n        text-align: right;\n    }\n</style>\n<table border=\"1\" class=\"dataframe\">\n  <thead>\n    <tr style=\"text-align: right;\">\n      <th></th>\n      <th>name</th>\n      <th>price_current</th>\n      <th>price_original</th>\n      <th>reviews_number</th>\n      <th>seller</th>\n      <th>score</th>\n      <th>Marca</th>\n      <th>Series</th>\n      <th>Color</th>\n      <th>Alto del producto</th>\n      <th>...</th>\n      <th>Número de puertos USB 2.0</th>\n      <th>Número de puertos USB 3.0</th>\n      <th>Tipo de unidad óptica</th>\n      <th>Sistema operativo</th>\n      <th>Lithium Battery Energy Content</th>\n      <th>Number of Lithium Ion Cells</th>\n      <th></th>\n      <th>Peso del envío</th>\n      <th>Número de modelo del producto</th>\n      <th>Producto en Amazon.com.mx desde</th>\n    </tr>\n  </thead>\n  <tbody>\n    <tr>\n      <th>0</th>\n      <td>\\r\\n                \\r\\n                    \\r...</td>\n      <td>$14,999.00</td>\n      <td>NaN</td>\n      <td>156 calificaciones</td>\n      <td>Huawei</td>\n      <td>4.7 de 5 estrellas</td>\n      <td>Huawei</td>\n      <td>Matebook D 15</td>\n      <td>Gris</td>\n      <td>17 millimeters</td>\n      <td>...</td>\n      <td>2.0</td>\n      <td>1.0</td>\n      <td>None</td>\n      <td>Windows 10 Home</td>\n      <td>42 watt_hours</td>\n      <td>2.0</td>\n      <td></td>\n      <td>2.3 Kg</td>\n      <td>6901443370764</td>\n      <td>20 de febrero de 2020</td>\n    </tr>\n    <tr>\n      <th>1</th>\n      <td>\\r\\n                \\r\\n                    \\r...</td>\n      <td>$17,999.00</td>\n      <td>$19,999.00</td>\n      <td>NaN</td>\n      <td>Asus</td>\n      <td>NaN</td>\n      <td>Asus</td>\n      <td>X512FA-BR1412T</td>\n      <td>NaN</td>\n      <td>NaN</td>\n      <td>...</td>\n      <td>2.0</td>\n      <td>2.0</td>\n      <td>Ninguno</td>\n      <td>Windows 10</td>\n      <td>1 kilowatt_hours</td>\n      <td>1.0</td>\n      <td></td>\n      <td>2.5 Kg</td>\n      <td>NaN</td>\n      <td>10 de marzo de 2020</td>\n    </tr>\n  </tbody>\n</table>\n<p>2 rows × 39 columns</p>\n</div>"
     },
     "metadata": {},
     "execution_count": 2
    }
   ],
   "source": [
    "df = pd.read_csv('../Data/amazon_0512.csv')\n",
    "df.head(2)"
   ]
  },
  {
   "cell_type": "code",
   "execution_count": 3,
   "metadata": {},
   "outputs": [
    {
     "output_type": "stream",
     "name": "stdout",
     "text": "<class 'pandas.core.frame.DataFrame'>\nRangeIndex: 512 entries, 0 to 511\nData columns (total 39 columns):\n #   Column                               Non-Null Count  Dtype  \n---  ------                               --------------  -----  \n 0   name                                 512 non-null    object \n 1   price_current                        220 non-null    object \n 2   price_original                       41 non-null     object \n 3   reviews_number                       469 non-null    object \n 4   seller                               512 non-null    object \n 5   score                                469 non-null    object \n 6   Marca                                512 non-null    object \n 7   Series                               475 non-null    object \n 8   Color                                293 non-null    object \n 9   Alto del producto                    469 non-null    object \n 10  Ancho del producto                   468 non-null    object \n 11  Tamaño de la pantalla                509 non-null    object \n 12  Resolución de la pantalla            204 non-null    object \n 13  Marca del procesador                 488 non-null    object \n 14  Tipo de procesador                   456 non-null    object \n 15  Velocidad del procesador             448 non-null    object \n 16  Tamaño de RAM                        506 non-null    object \n 17  Tecnología de la memoria             310 non-null    object \n 18  Tipo de memoria del equipo           368 non-null    object \n 19  Memoria máxima compatible            342 non-null    object \n 20  Tamaño de la unidad de disco duro    429 non-null    object \n 21  Descripción del disco duro           61 non-null     object \n 22  Interfaz de la unidad de disco duro  363 non-null    object \n 23  Coprocesador de gráficos             389 non-null    object \n 24  Descripción de la tarjeta gráfica    364 non-null    object \n 25  Tipo de RAM para gráficos            227 non-null    object \n 26  Tamaño de RAM de la tarjeta gráfica  59 non-null     object \n 27  Interfaz de la tarjeta gráfica       277 non-null    object \n 28  Tipo de conexión inalámbrica         460 non-null    object \n 29  Número de puertos USB 2.0            184 non-null    float64\n 30  Número de puertos USB 3.0            102 non-null    float64\n 31  Tipo de unidad óptica                292 non-null    object \n 32  Sistema operativo                    496 non-null    object \n 33  Lithium Battery Energy Content       508 non-null    object \n 34  Number of Lithium Ion Cells          491 non-null    float64\n 35                                       512 non-null    object \n 36  Peso del envío                       512 non-null    object \n 37  Número de modelo del producto        470 non-null    object \n 38  Producto en Amazon.com.mx desde      512 non-null    object \ndtypes: float64(3), object(36)\nmemory usage: 156.1+ KB\n"
    }
   ],
   "source": [
    "df.info()"
   ]
  },
  {
   "cell_type": "markdown",
   "metadata": {},
   "source": [
    "## Defining functions for transformation and cleaning"
   ]
  },
  {
   "cell_type": "code",
   "execution_count": 4,
   "metadata": {},
   "outputs": [],
   "source": [
    "def del_na(column):\n",
    "    return column[column.notna()]"
   ]
  },
  {
   "cell_type": "code",
   "execution_count": 5,
   "metadata": {},
   "outputs": [],
   "source": [
    "def only_first(cell, cast='int'):\n",
    "    if cast == 'int':\n",
    "        return int(round(float(cell.split()[0]), 0) )\n",
    "    else:\n",
    "        return float(cell.split()[0])"
   ]
  },
  {
   "cell_type": "code",
   "execution_count": 6,
   "metadata": {},
   "outputs": [],
   "source": [
    "def to_watts(cell):\n",
    "    cell = cell.split(' ')\n",
    "    watts = float(cell[0])\n",
    "    if 'kilowatt' in cell[1]:\n",
    "        watts *=  1000\n",
    "    elif 'milliamp' in cell[1]:\n",
    "        volts = 12\n",
    "        watts = (watts*volts)/1000\n",
    "    \n",
    "    return int(watts)"
   ]
  },
  {
   "cell_type": "code",
   "execution_count": 7,
   "metadata": {},
   "outputs": [],
   "source": [
    "def cast_int(value):\n",
    "    try:\n",
    "        return int(value)\n",
    "    except:\n",
    "        return None        "
   ]
  },
  {
   "cell_type": "code",
   "execution_count": 8,
   "metadata": {},
   "outputs": [],
   "source": [
    "def rename_col(dict_name):\n",
    "    df.rename(columns = dict_name, inplace = True)"
   ]
  },
  {
   "cell_type": "code",
   "execution_count": 9,
   "metadata": {},
   "outputs": [],
   "source": [
    "months_list = [\"enero\", \"febrero\", \"marzo\", \n",
    "                \"abril\", \"mayo\", \"junio\", \n",
    "                \"julio\", \"agosto\", \"septiembre\", \n",
    "                \"octubre\", \"noviembre\", \"diciembre\"]\n",
    "month_dict = {}\n",
    "month_value = 1\n",
    "\n",
    "for month in months_list:\n",
    "    month_dict[month] = month_value\n",
    "    month_value += 1\n",
    "\n",
    "def to_date(date_text):\n",
    "    date_text = date_text.split()\n",
    "    day = int(date_text[0])\n",
    "    month = month_dict[date_text[2]]\n",
    "    year = int(date_text[4])\n",
    "\n",
    "    return datetime.date(year, month, day)"
   ]
  },
  {
   "cell_type": "markdown",
   "metadata": {},
   "source": [
    "## Transforming data"
   ]
  },
  {
   "cell_type": "code",
   "execution_count": 10,
   "metadata": {},
   "outputs": [],
   "source": [
    "# Deleted empty column\n",
    "df.drop(df.columns[35], axis='columns', inplace=True)"
   ]
  },
  {
   "cell_type": "code",
   "execution_count": 11,
   "metadata": {},
   "outputs": [],
   "source": [
    "# Delete '/n' of each name\n",
    "space = re.compile('^\\s+\\n*(.*?.)\\s+\\n\\s*')\n",
    "\n",
    "df.name = df.name.apply( \n",
    "    lambda x: space.sub(r'\\1', x) )"
   ]
  },
  {
   "cell_type": "code",
   "execution_count": 12,
   "metadata": {},
   "outputs": [],
   "source": [
    "# price_current\n",
    "df.price_current = del_na(df.price_current).apply(\n",
    "    lambda x: float( x.replace('$', '').replace(',', '')) )"
   ]
  },
  {
   "cell_type": "code",
   "execution_count": 13,
   "metadata": {},
   "outputs": [],
   "source": [
    "# price_original\n",
    "df.price_original = del_na(df.price_original).apply(\n",
    "    lambda x: float(x.replace('$', '').replace(',', '')) )"
   ]
  },
  {
   "cell_type": "code",
   "execution_count": 14,
   "metadata": {},
   "outputs": [],
   "source": [
    "# reviews_number\n",
    "df.reviews_number = del_na(df.reviews_number).apply(\n",
    "    lambda x: only_first(x.replace(',', ''), 'int') )"
   ]
  },
  {
   "cell_type": "code",
   "execution_count": 15,
   "metadata": {},
   "outputs": [],
   "source": [
    "# score\n",
    "df.score = del_na(df.score).apply(\n",
    "    only_first, args = ('float',) )"
   ]
  },
  {
   "cell_type": "code",
   "execution_count": 16,
   "metadata": {},
   "outputs": [],
   "source": [
    "# alto\n",
    "rename_col({'Alto del producto' : 'height_cm'})\n",
    "\n",
    "df.height_cm = del_na(df.height_cm).apply( \n",
    "    lambda x:  only_first(x, 'float')   if 'cent' in x    else only_first(x) / 100 )"
   ]
  },
  {
   "cell_type": "code",
   "execution_count": 17,
   "metadata": {},
   "outputs": [],
   "source": [
    "# ancho\n",
    "rename_col({'Ancho del producto' : 'width_cm'})\n",
    "\n",
    "df.width_cm = del_na(df.width_cm).apply( \n",
    "    lambda x: only_first(x, 'float')    if 'cent' in x    else only_first(x) / 100 )"
   ]
  },
  {
   "cell_type": "code",
   "execution_count": 18,
   "metadata": {},
   "outputs": [],
   "source": [
    "# screen_size_in\n",
    "rename_col({'Tamaño de la pantalla' : 'screen_size_in'})\n",
    "df.screen_size_in = del_na(df.screen_size_in).apply(\n",
    "    lambda x: round(only_first(x, 'float'), 0))\n",
    "df.screen_size_in = df.screen_size_in.astype('category')"
   ]
  },
  {
   "cell_type": "code",
   "execution_count": 19,
   "metadata": {},
   "outputs": [],
   "source": [
    "# proc_speed_ghz\n",
    "rename_col({'Velocidad del procesador' : 'proc_speed_ghz'})\n",
    "\n",
    "df.proc_speed_ghz = del_na(df.proc_speed_ghz).apply(only_first, args = ('float',) )"
   ]
  },
  {
   "cell_type": "code",
   "execution_count": 20,
   "metadata": {},
   "outputs": [],
   "source": [
    "# ram\n",
    "rename_col({'Tamaño de RAM': 'ram'})\n",
    "\n",
    "df.ram = del_na(df.ram).apply(only_first)"
   ]
  },
  {
   "cell_type": "code",
   "execution_count": 21,
   "metadata": {},
   "outputs": [],
   "source": [
    "# ram_max\n",
    "rename_col({'Memoria máxima compatible': 'ram_max'})\n",
    "\n",
    "df.ram_max = del_na(df.ram_max).apply(only_first)"
   ]
  },
  {
   "cell_type": "code",
   "execution_count": 22,
   "metadata": {},
   "outputs": [],
   "source": [
    "# memory\n",
    "rename_col({'Tamaño de la unidad de disco duro' : 'memory',})\n",
    "\n",
    "df.memory = del_na(df.memory).apply(only_first)"
   ]
  },
  {
   "cell_type": "code",
   "execution_count": 23,
   "metadata": {},
   "outputs": [],
   "source": [
    "# gpu_ram\n",
    "rename_col({'Tamaño de RAM de la tarjeta gráfica' : 'gpu_ram',})\n",
    "\n",
    "df.gpu_ram = del_na(df.gpu_ram).apply(only_first)"
   ]
  },
  {
   "cell_type": "code",
   "execution_count": 24,
   "metadata": {},
   "outputs": [],
   "source": [
    "# usb_2\n",
    "rename_col({'Número de puertos USB 2.0': 'usb_2',})\n",
    "\n",
    "df.usb_2 = del_na(df.usb_2).apply(int)"
   ]
  },
  {
   "cell_type": "code",
   "execution_count": 25,
   "metadata": {},
   "outputs": [],
   "source": [
    "# usb_3\n",
    "rename_col({'Número de puertos USB 3.0': 'usb_3',})\n",
    "\n",
    "df.usb_3 = del_na(df.usb_3).apply(int)"
   ]
  },
  {
   "cell_type": "code",
   "execution_count": 26,
   "metadata": {},
   "outputs": [],
   "source": [
    "# battey\n",
    "rename_col({'Lithium Battery Energy Content' : 'battery_wh',})\n",
    "\n",
    "df.battery_wh = del_na(df.battery_wh).apply(to_watts)"
   ]
  },
  {
   "cell_type": "code",
   "execution_count": 27,
   "metadata": {},
   "outputs": [],
   "source": [
    "# battery_cells\n",
    "rename_col({'Number of Lithium Ion Cells' : 'battery_cells',})\n",
    "df.battery_cells = del_na(df.battery_cells).apply(int)\n",
    "df.battery_cells = df.battery_cells.astype('category')"
   ]
  },
  {
   "cell_type": "code",
   "execution_count": 28,
   "metadata": {},
   "outputs": [],
   "source": [
    "# weight_kg\n",
    "rename_col({'Peso del envío' : 'weight_kg'})\n",
    "\n",
    "df.weight_kg = del_na(df.weight_kg).apply(only_first, args=('float',) )"
   ]
  },
  {
   "cell_type": "code",
   "execution_count": 29,
   "metadata": {},
   "outputs": [],
   "source": [
    "# new column with resolution X of scree from screen resolution\n",
    "df['resolution_x'] = del_na(df['Resolución de la pantalla']).apply(\n",
    "    lambda x: x.replace(' ', '').split('x')[0]\n",
    "    ).apply(cast_int)"
   ]
  },
  {
   "cell_type": "code",
   "execution_count": 30,
   "metadata": {},
   "outputs": [],
   "source": [
    "# new column with resolution Y of screen from screen resolution\n",
    "df['resolution_y'] = del_na(df['Resolución de la pantalla']).apply( \n",
    "    lambda x: x.split('x')[1].split()[0] if len(x.split('x')) > 1 else None \n",
    "    ).apply(cast_int)"
   ]
  },
  {
   "cell_type": "code",
   "execution_count": 31,
   "metadata": {},
   "outputs": [],
   "source": [
    "# Ordering columns ['resolution_x' & 'resolution_y'] after column index 12\n",
    "df = df[df.columns.to_list()[:13] + ['resolution_x', 'resolution_y'] + df.columns.to_list()[12:-2]]"
   ]
  },
  {
   "cell_type": "code",
   "execution_count": 32,
   "metadata": {},
   "outputs": [],
   "source": [
    "# Drop old column of screen resolution\n",
    "del df['Resolución de la pantalla']"
   ]
  },
  {
   "cell_type": "code",
   "execution_count": 33,
   "metadata": {},
   "outputs": [],
   "source": [
    "rename_col({'Tipo de memoria del equipo' : 'ram_type'})\n",
    "df.ram_type = del_na(df.ram_type).apply(lambda x: x.split()[0])\n",
    "df.ram_type = df.ram_type.astype('category')"
   ]
  },
  {
   "cell_type": "code",
   "execution_count": 34,
   "metadata": {},
   "outputs": [],
   "source": [
    "# since\n",
    "rename_col({'Producto en Amazon.com.mx desde' : 'since'})\n",
    "df.since = df.since.apply(to_date)\n",
    "df.since = df.since.astype('datetime64[ns]')"
   ]
  },
  {
   "cell_type": "markdown",
   "metadata": {},
   "source": [
    "## Transforming DTypes"
   ]
  },
  {
   "cell_type": "code",
   "execution_count": 35,
   "metadata": {},
   "outputs": [],
   "source": [
    "# Perform types of DataFrame\n",
    "df = df.convert_dtypes()\n"
   ]
  },
  {
   "cell_type": "code",
   "execution_count": 36,
   "metadata": {},
   "outputs": [],
   "source": [
    "rename_col({'Marca' : 'brand'})\n",
    "df.brand = df.brand.astype('category')"
   ]
  },
  {
   "cell_type": "code",
   "execution_count": 37,
   "metadata": {},
   "outputs": [],
   "source": [
    "df.seller = df.seller.astype('category')"
   ]
  },
  {
   "cell_type": "code",
   "execution_count": 38,
   "metadata": {},
   "outputs": [],
   "source": [
    "rename_col({'Marca del procesador' : 'proc_brand'})\n",
    "df.proc_brand = df.proc_brand.astype('category')"
   ]
  },
  {
   "cell_type": "code",
   "execution_count": 39,
   "metadata": {},
   "outputs": [],
   "source": [
    "rename_col({'Interfaz de la unidad de disco duro' : 'memory_interface'})\n",
    "df.memory_interface = df.memory_interface.astype('category')"
   ]
  },
  {
   "cell_type": "code",
   "execution_count": 40,
   "metadata": {},
   "outputs": [],
   "source": [
    "rename_col({'Sistema operativo' : 'os'})\n",
    "df.os = df.os.astype('category')"
   ]
  },
  {
   "cell_type": "code",
   "execution_count": 41,
   "metadata": {},
   "outputs": [],
   "source": [
    "rename_col({'Interfaz de la tarjeta gráfica' : 'gpu_interface'})\n",
    "df.gpu_interface = df.gpu_interface.astype('category')"
   ]
  },
  {
   "cell_type": "markdown",
   "metadata": {},
   "source": [
    "## Showing clean data and exporting processed data"
   ]
  },
  {
   "cell_type": "code",
   "execution_count": 42,
   "metadata": {},
   "outputs": [
    {
     "output_type": "stream",
     "name": "stdout",
     "text": "<class 'pandas.core.frame.DataFrame'>\nRangeIndex: 512 entries, 0 to 511\nData columns (total 39 columns):\n #   Column                             Non-Null Count  Dtype         \n---  ------                             --------------  -----         \n 0   name                               512 non-null    string        \n 1   price_current                      220 non-null    float64       \n 2   price_original                     41 non-null     float64       \n 3   reviews_number                     469 non-null    Int64         \n 4   seller                             512 non-null    category      \n 5   score                              469 non-null    float64       \n 6   brand                              512 non-null    category      \n 7   Series                             475 non-null    string        \n 8   Color                              293 non-null    string        \n 9   height_cm                          469 non-null    float64       \n 10  width_cm                           468 non-null    float64       \n 11  screen_size_in                     509 non-null    category      \n 12  resolution_x                       200 non-null    Int64         \n 13  resolution_y                       200 non-null    Int64         \n 14  proc_brand                         488 non-null    category      \n 15  Tipo de procesador                 456 non-null    string        \n 16  proc_speed_ghz                     448 non-null    float64       \n 17  ram                                506 non-null    Int64         \n 18  Tecnología de la memoria           310 non-null    string        \n 19  ram_type                           368 non-null    category      \n 20  ram_max                            342 non-null    Int64         \n 21  memory                             429 non-null    Int64         \n 22  Descripción del disco duro         61 non-null     string        \n 23  memory_interface                   363 non-null    category      \n 24  Coprocesador de gráficos           389 non-null    string        \n 25  Descripción de la tarjeta gráfica  364 non-null    string        \n 26  Tipo de RAM para gráficos          227 non-null    string        \n 27  gpu_ram                            59 non-null     Int64         \n 28  gpu_interface                      277 non-null    category      \n 29  Tipo de conexión inalámbrica       460 non-null    string        \n 30  usb_2                              184 non-null    Int64         \n 31  usb_3                              102 non-null    Int64         \n 32  Tipo de unidad óptica              292 non-null    string        \n 33  os                                 496 non-null    category      \n 34  battery_wh                         508 non-null    Int64         \n 35  battery_cells                      491 non-null    category      \n 36  weight_kg                          512 non-null    float64       \n 37  Número de modelo del producto      470 non-null    string        \n 38  since                              512 non-null    datetime64[ns]\ndtypes: Int64(10), category(9), datetime64[ns](1), float64(7), string(12)\nmemory usage: 137.0 KB\n"
    }
   ],
   "source": [
    "df.info()"
   ]
  },
  {
   "cell_type": "code",
   "execution_count": 43,
   "metadata": {},
   "outputs": [
    {
     "output_type": "execute_result",
     "data": {
      "text/plain": "                                                name  price_current  \\\n0  Huawei MateBook D 15\" - AMD Ryzen, Windows 10-...        14999.0   \n1  Asus Laptop VivoBook 15.6\", Core i7,  8GB RAM,...        17999.0   \n\n   price_original  reviews_number  seller  score   brand          Series  \\\n0             NaN             156  Huawei    4.7  Huawei   Matebook D 15   \n1         19999.0            <NA>    Asus    NaN    Asus  X512FA-BR1412T   \n\n  Color  height_cm  ...  Tipo de conexión inalámbrica usb_2  usb_3  \\\n0  Gris       0.17  ...                     Bluetooth     2      1   \n1  <NA>        NaN  ...                          <NA>     2      2   \n\n   Tipo de unidad óptica               os battery_wh  battery_cells  \\\n0                   None  Windows 10 Home         42            2.0   \n1                Ninguno       Windows 10       1000            1.0   \n\n   weight_kg Número de modelo del producto      since  \n0        2.3                 6901443370764 2020-02-20  \n1        2.5                          <NA> 2020-03-10  \n\n[2 rows x 39 columns]",
      "text/html": "<div>\n<style scoped>\n    .dataframe tbody tr th:only-of-type {\n        vertical-align: middle;\n    }\n\n    .dataframe tbody tr th {\n        vertical-align: top;\n    }\n\n    .dataframe thead th {\n        text-align: right;\n    }\n</style>\n<table border=\"1\" class=\"dataframe\">\n  <thead>\n    <tr style=\"text-align: right;\">\n      <th></th>\n      <th>name</th>\n      <th>price_current</th>\n      <th>price_original</th>\n      <th>reviews_number</th>\n      <th>seller</th>\n      <th>score</th>\n      <th>brand</th>\n      <th>Series</th>\n      <th>Color</th>\n      <th>height_cm</th>\n      <th>...</th>\n      <th>Tipo de conexión inalámbrica</th>\n      <th>usb_2</th>\n      <th>usb_3</th>\n      <th>Tipo de unidad óptica</th>\n      <th>os</th>\n      <th>battery_wh</th>\n      <th>battery_cells</th>\n      <th>weight_kg</th>\n      <th>Número de modelo del producto</th>\n      <th>since</th>\n    </tr>\n  </thead>\n  <tbody>\n    <tr>\n      <th>0</th>\n      <td>Huawei MateBook D 15\" - AMD Ryzen, Windows 10-...</td>\n      <td>14999.0</td>\n      <td>NaN</td>\n      <td>156</td>\n      <td>Huawei</td>\n      <td>4.7</td>\n      <td>Huawei</td>\n      <td>Matebook D 15</td>\n      <td>Gris</td>\n      <td>0.17</td>\n      <td>...</td>\n      <td>Bluetooth</td>\n      <td>2</td>\n      <td>1</td>\n      <td>None</td>\n      <td>Windows 10 Home</td>\n      <td>42</td>\n      <td>2.0</td>\n      <td>2.3</td>\n      <td>6901443370764</td>\n      <td>2020-02-20</td>\n    </tr>\n    <tr>\n      <th>1</th>\n      <td>Asus Laptop VivoBook 15.6\", Core i7,  8GB RAM,...</td>\n      <td>17999.0</td>\n      <td>19999.0</td>\n      <td>&lt;NA&gt;</td>\n      <td>Asus</td>\n      <td>NaN</td>\n      <td>Asus</td>\n      <td>X512FA-BR1412T</td>\n      <td>&lt;NA&gt;</td>\n      <td>NaN</td>\n      <td>...</td>\n      <td>&lt;NA&gt;</td>\n      <td>2</td>\n      <td>2</td>\n      <td>Ninguno</td>\n      <td>Windows 10</td>\n      <td>1000</td>\n      <td>1.0</td>\n      <td>2.5</td>\n      <td>&lt;NA&gt;</td>\n      <td>2020-03-10</td>\n    </tr>\n  </tbody>\n</table>\n<p>2 rows × 39 columns</p>\n</div>"
     },
     "metadata": {},
     "execution_count": 43
    }
   ],
   "source": [
    "df.head(2)"
   ]
  },
  {
   "cell_type": "code",
   "execution_count": 44,
   "metadata": {},
   "outputs": [],
   "source": [
    "df.to_csv('../Data/amazon_clean_' + datetime.datetime.today().strftime('%m%d') + '.csv')"
   ]
  }
 ],
 "metadata": {
  "language_info": {
   "codemirror_mode": {
    "name": "ipython",
    "version": 3
   },
   "file_extension": ".py",
   "mimetype": "text/x-python",
   "name": "python",
   "nbconvert_exporter": "python",
   "pygments_lexer": "ipython3",
   "version": "3.8.2-final"
  },
  "orig_nbformat": 2,
  "kernelspec": {
   "name": "python38264bitplatzidatacondaa1916bf86f0645438a1bcc3f200d90b5",
   "display_name": "Python 3.8.2 64-bit ('platzi_data': conda)"
  }
 },
 "nbformat": 4,
 "nbformat_minor": 2
}