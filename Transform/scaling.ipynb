{
 "cells": [
  {
   "cell_type": "code",
   "execution_count": null,
   "metadata": {},
   "outputs": [],
   "source": [
    "import pandas  as pd\n",
    "import numpy as np\n",
    "import matplotlib.pyplot as plt\n",
    "\n",
    "from sklearn import preprocessing\n",
    "from sklearn.cluster import KMeans\n",
    "from sklearn.metrics import pairwise_distances_argmin_min\n",
    "\n",
    "%matplotlib inline"
   ]
  },
  {
   "cell_type": "code",
   "execution_count": null,
   "metadata": {},
   "outputs": [],
   "source": [
    "df = pd.read_csv('../Data/amazon_filtered_0513.csv', index_col=0)\n",
    "df.head(2)"
   ]
  },
  {
   "cell_type": "code",
   "execution_count": null,
   "metadata": {},
   "outputs": [],
   "source": [
    "df.info()"
   ]
  },
  {
   "cell_type": "code",
   "execution_count": null,
   "metadata": {},
   "outputs": [],
   "source": [
    "columns_not_numeric = df.select_dtypes(exclude='number').columns\n",
    "df.drop(columns=columns_not_numeric, inplace=True)\n",
    "df.head(2)"
   ]
  },
  {
   "cell_type": "code",
   "execution_count": null,
   "metadata": {},
   "outputs": [],
   "source": [
    "df.info()"
   ]
  },
  {
   "cell_type": "code",
   "execution_count": null,
   "metadata": {},
   "outputs": [],
   "source": [
    "def _print_plots_kde(dataframe, name_plot, plot_cols=4):\n",
    "    plots_quantity = len( dataframe.columns )\n",
    "\n",
    "    plot_rows = int( np.ceil( plots_quantity / plot_cols ) )\n",
    "    plot_size_y = plot_rows * 5\n",
    "    plot_size_x = plot_cols * 10\n",
    "\n",
    "    fig, ax = plt.subplots( plot_rows, plot_cols, figsize=(plot_size_x, plot_size_y) )\n",
    "\n",
    "    for nrow in range(plot_rows):\n",
    "        for ncol in range(plot_cols):\n",
    "            if plots_quantity >= 1:\n",
    "                plots_quantity -= 1\n",
    "                dataframe.iloc[:, plots_quantity].plot(kind='kde', ax=ax[nrow][ncol], title=df.columns[plots_quantity - 1])\n",
    "            else:\n",
    "                break\n",
    "                \n",
    "    # plt.savefig(name_plot, bbox_inches='tight')"
   ]
  },
  {
   "cell_type": "code",
   "execution_count": null,
   "metadata": {},
   "outputs": [],
   "source": [
    "transform_normalized = preprocessing.Normalizer().fit_transform(df)\n",
    "transform_maxmin = preprocessing.MinMaxScaler().fit_transform(df)\n",
    "transform_standard = preprocessing.StandardScaler().fit_transform(df)\n",
    "transform_robust = preprocessing.RobustScaler().fit_transform(df)\n"
   ]
  },
  {
   "cell_type": "code",
   "execution_count": null,
   "metadata": {},
   "outputs": [],
   "source": [
    "_print_plots_kde(df, 'original')"
   ]
  },
  {
   "cell_type": "code",
   "execution_count": null,
   "metadata": {},
   "outputs": [],
   "source": [
    "_print_plots_kde( pd.DataFrame(transform_normal), 'normalized')"
   ]
  },
  {
   "cell_type": "code",
   "execution_count": null,
   "metadata": {},
   "outputs": [],
   "source": [
    "_print_plots_kde( pd.DataFrame(transform_maxmin), 'min-max')"
   ]
  },
  {
   "cell_type": "code",
   "execution_count": null,
   "metadata": {},
   "outputs": [],
   "source": [
    "_print_plots_kde( pd.DataFrame(transform_standard), 'standard')"
   ]
  },
  {
   "cell_type": "code",
   "execution_count": null,
   "metadata": {},
   "outputs": [],
   "source": [
    "_print_plots_kde( pd.DataFrame(transform_robust), 'robust')"
   ]
  },
  {
   "cell_type": "code",
   "execution_count": null,
   "metadata": {},
   "outputs": [],
   "source": [
    "transforms = [\n",
    "    (transform_normalized, 'normal'),\n",
    "    (transform_standard, 'standar'),\n",
    "    (transform_maxmin, 'max min'),\n",
    "    (transform_robust, 'robust')\n",
    "    ]"
   ]
  },
  {
   "cell_type": "code",
   "execution_count": null,
   "metadata": {},
   "outputs": [],
   "source": [
    "iteractions = range(1, 15)\n",
    "\n",
    "plots_quantity = len( transforms )\n",
    "plot_cols = 2\n",
    "\n",
    "plot_rows = int( np.ceil( plots_quantity / plot_cols ) )\n",
    "plot_size_y = plot_rows * 5\n",
    "plot_size_x = plot_cols * 10\n",
    "\n",
    "fig, ax = plt.subplots( plot_rows, plot_cols, figsize=(plot_size_x, plot_size_y) )\n",
    "\n",
    "for nrow in range(plot_rows):\n",
    "    for ncol in range(plot_cols):\n",
    "        if plots_quantity >= 1:\n",
    "            plots_quantity -= 1\n",
    "\n",
    "            kmeans = [ KMeans(n_clusters=i) for i in iteractions ]\n",
    "            score = [ kmeans[i].fit(transforms[plots_quantity][0]).score(transforms[plots_quantity][0]) for i in range( len(kmeans) ) ]\n",
    "\n",
    "            ax[nrow][ncol].plot(iteractions,score)\n",
    "            ax[nrow][ncol].set_title(transforms[plots_quantity][1])\n",
    "\n",
    "        else:\n",
    "            break"
   ]
  },
  {
   "cell_type": "code",
   "execution_count": null,
   "metadata": {},
   "outputs": [],
   "source": [
    "clusters = KMeans(n_clusters=8).fit(transform_standard)"
   ]
  },
  {
   "cell_type": "code",
   "execution_count": null,
   "metadata": {},
   "outputs": [],
   "source": [
    "df_clusters = pd.DataFrame(clusters.cluster_centers_, columns = df.columns)\n",
    "df_clusters"
   ]
  },
  {
   "cell_type": "code",
   "execution_count": null,
   "metadata": {},
   "outputs": [],
   "source": [
    "df_clusters.describe()"
   ]
  },
  {
   "cell_type": "code",
   "execution_count": null,
   "metadata": {},
   "outputs": [],
   "source": [
    "df_clusters.iloc[0]"
   ]
  },
  {
   "cell_type": "code",
   "execution_count": null,
   "metadata": {},
   "outputs": [],
   "source": [
    "categories = df_clusters.columns\n",
    "\n",
    "angles = [n / float(len(categories)) * 2 * np.pi for n in range(len(categories))]\n",
    "angles += angles[:1]\n",
    "\n",
    "fig, ax = plt.subplots(nrows=1, ncols=1, figsize=(8, 8),\n",
    "                    subplot_kw=dict(polar=True))\n",
    "\n",
    "plt.xticks(angles[:-1], categories, color='grey', size=12)\n",
    "\n",
    "\n",
    "for cluster in df_clusters.index:\n",
    "    values = df_clusters.iloc[cluster].values.tolist()\n",
    "    values += values[:1] # repeat the first value to close the circular graph\n",
    "    ax.plot(angles, values, linewidth=1, linestyle='solid', label='cluster_'+str(cluster))\n",
    "\n",
    "plt.legend()\n",
    "plt.show()"
   ]
  }
 ],
 "metadata": {
  "language_info": {
   "codemirror_mode": {
    "name": "ipython",
    "version": 3
   },
   "file_extension": ".py",
   "mimetype": "text/x-python",
   "name": "python",
   "nbconvert_exporter": "python",
   "pygments_lexer": "ipython3",
   "version": "3.7.6-final"
  },
  "orig_nbformat": 2,
  "kernelspec": {
   "name": "python3",
   "display_name": "Python 3"
  }
 },
 "nbformat": 4,
 "nbformat_minor": 2
}